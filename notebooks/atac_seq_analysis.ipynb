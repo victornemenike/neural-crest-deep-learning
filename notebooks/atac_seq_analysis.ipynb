{
 "cells": [
  {
   "cell_type": "code",
   "execution_count": 1,
   "metadata": {},
   "outputs": [],
   "source": [
    "import pandas as pd"
   ]
  },
  {
   "cell_type": "code",
   "execution_count": 2,
   "metadata": {},
   "outputs": [],
   "source": [
    "data = pd.read_csv(\"../data/psd.bulk.zfish_atac.10hpf.lg1x.csv\")"
   ]
  },
  {
   "cell_type": "code",
   "execution_count": 3,
   "metadata": {},
   "outputs": [
    {
     "data": {
      "text/html": [
       "<div>\n",
       "<style scoped>\n",
       "    .dataframe tbody tr th:only-of-type {\n",
       "        vertical-align: middle;\n",
       "    }\n",
       "\n",
       "    .dataframe tbody tr th {\n",
       "        vertical-align: top;\n",
       "    }\n",
       "\n",
       "    .dataframe thead th {\n",
       "        text-align: right;\n",
       "    }\n",
       "</style>\n",
       "<table border=\"1\" class=\"dataframe\">\n",
       "  <thead>\n",
       "    <tr style=\"text-align: right;\">\n",
       "      <th></th>\n",
       "      <th>anterior/posterior axis</th>\n",
       "      <th>central nervous system</th>\n",
       "      <th>forebrain</th>\n",
       "      <th>immature eye</th>\n",
       "      <th>integument</th>\n",
       "      <th>lateral plate mesoderm</th>\n",
       "      <th>mesenchyme cell</th>\n",
       "      <th>musculature system</th>\n",
       "      <th>neural crest</th>\n",
       "      <th>neural keel</th>\n",
       "      <th>neural stem cell</th>\n",
       "      <th>periderm/epidermis</th>\n",
       "      <th>primary neuron</th>\n",
       "      <th>segmental plate</th>\n",
       "      <th>YSL</th>\n",
       "    </tr>\n",
       "  </thead>\n",
       "  <tbody>\n",
       "    <tr>\n",
       "      <th>0</th>\n",
       "      <td>4.612648</td>\n",
       "      <td>5.204557</td>\n",
       "      <td>3.391132</td>\n",
       "      <td>4.552681</td>\n",
       "      <td>3.668004</td>\n",
       "      <td>4.766655</td>\n",
       "      <td>4.012215</td>\n",
       "      <td>4.486644</td>\n",
       "      <td>4.463738</td>\n",
       "      <td>4.861570</td>\n",
       "      <td>3.614023</td>\n",
       "      <td>3.696712</td>\n",
       "      <td>3.210026</td>\n",
       "      <td>4.679626</td>\n",
       "      <td>4.277916</td>\n",
       "    </tr>\n",
       "    <tr>\n",
       "      <th>1</th>\n",
       "      <td>4.721959</td>\n",
       "      <td>5.358137</td>\n",
       "      <td>3.557652</td>\n",
       "      <td>4.688727</td>\n",
       "      <td>3.546239</td>\n",
       "      <td>4.748463</td>\n",
       "      <td>4.012215</td>\n",
       "      <td>4.399901</td>\n",
       "      <td>4.690443</td>\n",
       "      <td>4.848311</td>\n",
       "      <td>3.776074</td>\n",
       "      <td>3.959122</td>\n",
       "      <td>3.531244</td>\n",
       "      <td>4.750276</td>\n",
       "      <td>4.439449</td>\n",
       "    </tr>\n",
       "    <tr>\n",
       "      <th>2</th>\n",
       "      <td>4.806994</td>\n",
       "      <td>5.338711</td>\n",
       "      <td>3.360469</td>\n",
       "      <td>4.163852</td>\n",
       "      <td>3.668004</td>\n",
       "      <td>4.955051</td>\n",
       "      <td>4.129443</td>\n",
       "      <td>4.353534</td>\n",
       "      <td>4.787046</td>\n",
       "      <td>4.735389</td>\n",
       "      <td>3.574781</td>\n",
       "      <td>4.325414</td>\n",
       "      <td>4.545861</td>\n",
       "      <td>4.917399</td>\n",
       "      <td>5.058778</td>\n",
       "    </tr>\n",
       "    <tr>\n",
       "      <th>3</th>\n",
       "      <td>4.879061</td>\n",
       "      <td>5.578282</td>\n",
       "      <td>4.236443</td>\n",
       "      <td>4.404106</td>\n",
       "      <td>4.145129</td>\n",
       "      <td>4.893466</td>\n",
       "      <td>4.429041</td>\n",
       "      <td>4.558759</td>\n",
       "      <td>4.650654</td>\n",
       "      <td>4.885431</td>\n",
       "      <td>4.076645</td>\n",
       "      <td>4.572297</td>\n",
       "      <td>4.306987</td>\n",
       "      <td>5.019714</td>\n",
       "      <td>4.859518</td>\n",
       "    </tr>\n",
       "    <tr>\n",
       "      <th>4</th>\n",
       "      <td>5.052703</td>\n",
       "      <td>5.736003</td>\n",
       "      <td>4.323331</td>\n",
       "      <td>4.790483</td>\n",
       "      <td>4.440677</td>\n",
       "      <td>5.033977</td>\n",
       "      <td>4.375875</td>\n",
       "      <td>4.868698</td>\n",
       "      <td>5.025405</td>\n",
       "      <td>5.054618</td>\n",
       "      <td>4.130548</td>\n",
       "      <td>4.473848</td>\n",
       "      <td>4.426082</td>\n",
       "      <td>5.211885</td>\n",
       "      <td>5.306444</td>\n",
       "    </tr>\n",
       "  </tbody>\n",
       "</table>\n",
       "</div>"
      ],
      "text/plain": [
       "   anterior/posterior axis  central nervous system  forebrain  immature eye  \\\n",
       "0                 4.612648                5.204557   3.391132      4.552681   \n",
       "1                 4.721959                5.358137   3.557652      4.688727   \n",
       "2                 4.806994                5.338711   3.360469      4.163852   \n",
       "3                 4.879061                5.578282   4.236443      4.404106   \n",
       "4                 5.052703                5.736003   4.323331      4.790483   \n",
       "\n",
       "   integument  lateral plate mesoderm  mesenchyme cell  musculature system  \\\n",
       "0    3.668004                4.766655         4.012215            4.486644   \n",
       "1    3.546239                4.748463         4.012215            4.399901   \n",
       "2    3.668004                4.955051         4.129443            4.353534   \n",
       "3    4.145129                4.893466         4.429041            4.558759   \n",
       "4    4.440677                5.033977         4.375875            4.868698   \n",
       "\n",
       "   neural crest  neural keel  neural stem cell  periderm/epidermis  \\\n",
       "0      4.463738     4.861570          3.614023            3.696712   \n",
       "1      4.690443     4.848311          3.776074            3.959122   \n",
       "2      4.787046     4.735389          3.574781            4.325414   \n",
       "3      4.650654     4.885431          4.076645            4.572297   \n",
       "4      5.025405     5.054618          4.130548            4.473848   \n",
       "\n",
       "   primary neuron  segmental plate       YSL  \n",
       "0        3.210026         4.679626  4.277916  \n",
       "1        3.531244         4.750276  4.439449  \n",
       "2        4.545861         4.917399  5.058778  \n",
       "3        4.306987         5.019714  4.859518  \n",
       "4        4.426082         5.211885  5.306444  "
      ]
     },
     "execution_count": 3,
     "metadata": {},
     "output_type": "execute_result"
    }
   ],
   "source": [
    "data.head()"
   ]
  },
  {
   "cell_type": "code",
   "execution_count": 4,
   "metadata": {},
   "outputs": [
    {
     "data": {
      "text/plain": [
       "(370058, 15)"
      ]
     },
     "execution_count": 4,
     "metadata": {},
     "output_type": "execute_result"
    }
   ],
   "source": [
    "data.shape"
   ]
  },
  {
   "cell_type": "code",
   "execution_count": null,
   "metadata": {},
   "outputs": [],
   "source": []
  }
 ],
 "metadata": {
  "kernelspec": {
   "display_name": "deeplife",
   "language": "python",
   "name": "python3"
  },
  "language_info": {
   "codemirror_mode": {
    "name": "ipython",
    "version": 3
   },
   "file_extension": ".py",
   "mimetype": "text/x-python",
   "name": "python",
   "nbconvert_exporter": "python",
   "pygments_lexer": "ipython3",
   "version": "3.11.11"
  }
 },
 "nbformat": 4,
 "nbformat_minor": 2
}
