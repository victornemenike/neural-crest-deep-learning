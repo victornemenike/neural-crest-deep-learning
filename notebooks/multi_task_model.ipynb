{
 "cells": [
  {
   "cell_type": "markdown",
   "metadata": {},
   "source": [
    "# Training a multi-task regression model for neural crest cells"
   ]
  },
  {
   "cell_type": "code",
   "execution_count": 45,
   "metadata": {},
   "outputs": [],
   "source": [
    "import os\n",
    "import numpy as np\n",
    "import pandas as pd\n",
    "import matplotlib.pyplot as plt\n",
    "import anndata"
   ]
  },
  {
   "cell_type": "markdown",
   "metadata": {},
   "source": [
    "## Set experiment parameters"
   ]
  },
  {
   "cell_type": "code",
   "execution_count": 46,
   "metadata": {},
   "outputs": [],
   "source": [
    "experiment = 'multi_task_1'\n",
    "if not os.path.exists(experiment):\n",
    "    os.makedirs(experiment)\n",
    "    \n",
    "genome = 'danRer11' #\"GRCz11\"\n",
    "seq_len = 500 # Length of the input sequence"
   ]
  },
  {
   "cell_type": "markdown",
   "metadata": {},
   "source": [
    "## Load Data"
   ]
  },
  {
   "cell_type": "code",
   "execution_count": 47,
   "metadata": {},
   "outputs": [
    {
     "data": {
      "text/plain": [
       "(15, 370058)"
      ]
     },
     "execution_count": 47,
     "metadata": {},
     "output_type": "execute_result"
    }
   ],
   "source": [
    "peaks = pd.read_csv(\"../data/normalized_peaks.csv\")\n",
    "\n",
    "ad = peaks.to_numpy()\n",
    "ad = anndata.AnnData(ad).T\n",
    "\n",
    "# Prepare ad.obs\n",
    "cell_types = pd.DataFrame({'cell type': peaks.columns})\n",
    "ad.obs = cell_types\n",
    "ad.obs_names = ad.obs['cell type']\n",
    "\n",
    "# Prepare ad.var\n",
    "var = pd.read_csv(\"../data/chromosomes.10hpf.bed\", sep = '\\t', header = None)\n",
    "var.columns = ['chrom', 'start', 'end', 'name', 'score', 'strand']\n",
    "var = var.drop(columns =['name', 'score', 'strand'])\n",
    "var.index = var.index.astype(str)\n",
    "ad.var = var\n",
    "\n",
    "ad.shape"
   ]
  },
  {
   "cell_type": "code",
   "execution_count": 48,
   "metadata": {},
   "outputs": [
    {
     "data": {
      "text/html": [
       "<div>\n",
       "<style scoped>\n",
       "    .dataframe tbody tr th:only-of-type {\n",
       "        vertical-align: middle;\n",
       "    }\n",
       "\n",
       "    .dataframe tbody tr th {\n",
       "        vertical-align: top;\n",
       "    }\n",
       "\n",
       "    .dataframe thead th {\n",
       "        text-align: right;\n",
       "    }\n",
       "</style>\n",
       "<table border=\"1\" class=\"dataframe\">\n",
       "  <thead>\n",
       "    <tr style=\"text-align: right;\">\n",
       "      <th></th>\n",
       "      <th>cell type</th>\n",
       "    </tr>\n",
       "    <tr>\n",
       "      <th>cell type</th>\n",
       "      <th></th>\n",
       "    </tr>\n",
       "  </thead>\n",
       "  <tbody>\n",
       "    <tr>\n",
       "      <th>anterior/posterior axis</th>\n",
       "      <td>anterior/posterior axis</td>\n",
       "    </tr>\n",
       "    <tr>\n",
       "      <th>central nervous system</th>\n",
       "      <td>central nervous system</td>\n",
       "    </tr>\n",
       "    <tr>\n",
       "      <th>forebrain</th>\n",
       "      <td>forebrain</td>\n",
       "    </tr>\n",
       "    <tr>\n",
       "      <th>immature eye</th>\n",
       "      <td>immature eye</td>\n",
       "    </tr>\n",
       "    <tr>\n",
       "      <th>integument</th>\n",
       "      <td>integument</td>\n",
       "    </tr>\n",
       "    <tr>\n",
       "      <th>lateral plate mesoderm</th>\n",
       "      <td>lateral plate mesoderm</td>\n",
       "    </tr>\n",
       "    <tr>\n",
       "      <th>mesenchyme cell</th>\n",
       "      <td>mesenchyme cell</td>\n",
       "    </tr>\n",
       "    <tr>\n",
       "      <th>musculature system</th>\n",
       "      <td>musculature system</td>\n",
       "    </tr>\n",
       "    <tr>\n",
       "      <th>neural crest</th>\n",
       "      <td>neural crest</td>\n",
       "    </tr>\n",
       "    <tr>\n",
       "      <th>neural keel</th>\n",
       "      <td>neural keel</td>\n",
       "    </tr>\n",
       "    <tr>\n",
       "      <th>neural stem cell</th>\n",
       "      <td>neural stem cell</td>\n",
       "    </tr>\n",
       "    <tr>\n",
       "      <th>periderm/epidermis</th>\n",
       "      <td>periderm/epidermis</td>\n",
       "    </tr>\n",
       "    <tr>\n",
       "      <th>primary neuron</th>\n",
       "      <td>primary neuron</td>\n",
       "    </tr>\n",
       "    <tr>\n",
       "      <th>segmental plate</th>\n",
       "      <td>segmental plate</td>\n",
       "    </tr>\n",
       "    <tr>\n",
       "      <th>YSL</th>\n",
       "      <td>YSL</td>\n",
       "    </tr>\n",
       "  </tbody>\n",
       "</table>\n",
       "</div>"
      ],
      "text/plain": [
       "                                       cell type\n",
       "cell type                                       \n",
       "anterior/posterior axis  anterior/posterior axis\n",
       "central nervous system    central nervous system\n",
       "forebrain                              forebrain\n",
       "immature eye                        immature eye\n",
       "integument                            integument\n",
       "lateral plate mesoderm    lateral plate mesoderm\n",
       "mesenchyme cell                  mesenchyme cell\n",
       "musculature system            musculature system\n",
       "neural crest                        neural crest\n",
       "neural keel                          neural keel\n",
       "neural stem cell                neural stem cell\n",
       "periderm/epidermis            periderm/epidermis\n",
       "primary neuron                    primary neuron\n",
       "segmental plate                  segmental plate\n",
       "YSL                                          YSL"
      ]
     },
     "execution_count": 48,
     "metadata": {},
     "output_type": "execute_result"
    }
   ],
   "source": [
    "ad.obs"
   ]
  },
  {
   "cell_type": "code",
   "execution_count": 49,
   "metadata": {},
   "outputs": [
    {
     "data": {
      "text/plain": [
       "Index(['anterior/posterior axis', 'central nervous system', 'forebrain',\n",
       "       'immature eye', 'integument', 'lateral plate mesoderm',\n",
       "       'mesenchyme cell', 'musculature system', 'neural crest', 'neural keel',\n",
       "       'neural stem cell', 'periderm/epidermis', 'primary neuron',\n",
       "       'segmental plate', 'YSL'],\n",
       "      dtype='object', name='cell type')"
      ]
     },
     "execution_count": 49,
     "metadata": {},
     "output_type": "execute_result"
    }
   ],
   "source": [
    "ad.obs_names"
   ]
  },
  {
   "cell_type": "code",
   "execution_count": 50,
   "metadata": {},
   "outputs": [
    {
     "data": {
      "text/html": [
       "<div>\n",
       "<style scoped>\n",
       "    .dataframe tbody tr th:only-of-type {\n",
       "        vertical-align: middle;\n",
       "    }\n",
       "\n",
       "    .dataframe tbody tr th {\n",
       "        vertical-align: top;\n",
       "    }\n",
       "\n",
       "    .dataframe thead th {\n",
       "        text-align: right;\n",
       "    }\n",
       "</style>\n",
       "<table border=\"1\" class=\"dataframe\">\n",
       "  <thead>\n",
       "    <tr style=\"text-align: right;\">\n",
       "      <th></th>\n",
       "      <th>chrom</th>\n",
       "      <th>start</th>\n",
       "      <th>end</th>\n",
       "    </tr>\n",
       "  </thead>\n",
       "  <tbody>\n",
       "    <tr>\n",
       "      <th>0</th>\n",
       "      <td>chr1</td>\n",
       "      <td>5231</td>\n",
       "      <td>5732</td>\n",
       "    </tr>\n",
       "    <tr>\n",
       "      <th>1</th>\n",
       "      <td>chr1</td>\n",
       "      <td>5786</td>\n",
       "      <td>6287</td>\n",
       "    </tr>\n",
       "    <tr>\n",
       "      <th>2</th>\n",
       "      <td>chr1</td>\n",
       "      <td>10087</td>\n",
       "      <td>10588</td>\n",
       "    </tr>\n",
       "    <tr>\n",
       "      <th>3</th>\n",
       "      <td>chr1</td>\n",
       "      <td>10990</td>\n",
       "      <td>11491</td>\n",
       "    </tr>\n",
       "    <tr>\n",
       "      <th>4</th>\n",
       "      <td>chr1</td>\n",
       "      <td>11894</td>\n",
       "      <td>12395</td>\n",
       "    </tr>\n",
       "  </tbody>\n",
       "</table>\n",
       "</div>"
      ],
      "text/plain": [
       "  chrom  start    end\n",
       "0  chr1   5231   5732\n",
       "1  chr1   5786   6287\n",
       "2  chr1  10087  10588\n",
       "3  chr1  10990  11491\n",
       "4  chr1  11894  12395"
      ]
     },
     "execution_count": 50,
     "metadata": {},
     "output_type": "execute_result"
    }
   ],
   "source": [
    "ad.var.head()"
   ]
  },
  {
   "cell_type": "code",
   "execution_count": 51,
   "metadata": {},
   "outputs": [
    {
     "data": {
      "text/plain": [
       "array([[4.65111754, 4.7597768 , 4.84433467, 4.91311991, 5.09123001],\n",
       "       [4.53367234, 4.71507734, 4.6939733 , 4.97038916, 5.15560569],\n",
       "       [3.74337616, 3.89092058, 3.71531718, 4.50199984, 4.58080749],\n",
       "       [4.67651185, 4.80295157, 4.32103392, 4.53860808, 4.89682671],\n",
       "       [3.88919404, 3.75913911, 3.88919404, 4.40643606, 4.7314921 ]])"
      ]
     },
     "execution_count": 51,
     "metadata": {},
     "output_type": "execute_result"
    }
   ],
   "source": [
    "ad.X[0:5,0:5]"
   ]
  },
  {
   "cell_type": "markdown",
   "metadata": {},
   "source": [
    "## Select small dataset for testing"
   ]
  },
  {
   "cell_type": "code",
   "execution_count": 52,
   "metadata": {},
   "outputs": [
    {
     "data": {
      "text/plain": [
       "(15, 370058)"
      ]
     },
     "execution_count": 52,
     "metadata": {},
     "output_type": "execute_result"
    }
   ],
   "source": [
    "#ad = ad[:,:50000]\n",
    "ad.shape"
   ]
  },
  {
   "cell_type": "markdown",
   "metadata": {},
   "source": [
    "## Filter peaks"
   ]
  },
  {
   "cell_type": "markdown",
   "metadata": {},
   "source": [
    "Performing filtering of the dataset using `grelu.data.preprocess` module.\n",
    "\n",
    "First, we filter peaks within autosomes (chromosomes 1 - 22) or chromosomes X/Y."
   ]
  },
  {
   "cell_type": "code",
   "execution_count": 53,
   "metadata": {},
   "outputs": [
    {
     "name": "stdout",
     "output_type": "stream",
     "text": [
      "Keeping 333823 intervals\n"
     ]
    }
   ],
   "source": [
    "import grelu.data.preprocess\n",
    "\n",
    "ad = grelu.data.preprocess.filter_chromosomes(ad, 'autosomes')"
   ]
  },
  {
   "cell_type": "markdown",
   "metadata": {},
   "source": [
    "## Resize peaks"
   ]
  },
  {
   "cell_type": "markdown",
   "metadata": {},
   "source": [
    "ATAC-seq peaks can take different lengths. Hence, we resize all ATAC-seq peaks to a constant sequence length of 200 bp to train the model as follows:"
   ]
  },
  {
   "cell_type": "code",
   "execution_count": 54,
   "metadata": {},
   "outputs": [
    {
     "data": {
      "text/html": [
       "<div>\n",
       "<style scoped>\n",
       "    .dataframe tbody tr th:only-of-type {\n",
       "        vertical-align: middle;\n",
       "    }\n",
       "\n",
       "    .dataframe tbody tr th {\n",
       "        vertical-align: top;\n",
       "    }\n",
       "\n",
       "    .dataframe thead th {\n",
       "        text-align: right;\n",
       "    }\n",
       "</style>\n",
       "<table border=\"1\" class=\"dataframe\">\n",
       "  <thead>\n",
       "    <tr style=\"text-align: right;\">\n",
       "      <th></th>\n",
       "      <th>chrom</th>\n",
       "      <th>start</th>\n",
       "      <th>end</th>\n",
       "    </tr>\n",
       "  </thead>\n",
       "  <tbody>\n",
       "    <tr>\n",
       "      <th>0</th>\n",
       "      <td>chr1</td>\n",
       "      <td>5232</td>\n",
       "      <td>5732</td>\n",
       "    </tr>\n",
       "    <tr>\n",
       "      <th>1</th>\n",
       "      <td>chr1</td>\n",
       "      <td>5787</td>\n",
       "      <td>6287</td>\n",
       "    </tr>\n",
       "    <tr>\n",
       "      <th>2</th>\n",
       "      <td>chr1</td>\n",
       "      <td>10088</td>\n",
       "      <td>10588</td>\n",
       "    </tr>\n",
       "  </tbody>\n",
       "</table>\n",
       "</div>"
      ],
      "text/plain": [
       "  chrom  start    end\n",
       "0  chr1   5232   5732\n",
       "1  chr1   5787   6287\n",
       "2  chr1  10088  10588"
      ]
     },
     "execution_count": 54,
     "metadata": {},
     "output_type": "execute_result"
    }
   ],
   "source": [
    "import grelu.sequence.utils\n",
    "\n",
    "\n",
    "ad.var = grelu.sequence.utils.resize(ad.var, seq_len)\n",
    "ad.var.head(3)"
   ]
  },
  {
   "cell_type": "markdown",
   "metadata": {},
   "source": [
    "## Split data"
   ]
  },
  {
   "cell_type": "code",
   "execution_count": 55,
   "metadata": {},
   "outputs": [
    {
     "data": {
      "text/plain": [
       "array(['chr1', 'chr2', 'chr3', 'chr4', 'chr5', 'chr6', 'chr7', 'chr8',\n",
       "       'chr9', 'chr10', 'chr11', 'chr12', 'chr13', 'chr14', 'chr15',\n",
       "       'chr16', 'chr17', 'chr18', 'chr19', 'chr20', 'chr21', 'chr22'],\n",
       "      dtype=object)"
      ]
     },
     "execution_count": 55,
     "metadata": {},
     "output_type": "execute_result"
    }
   ],
   "source": [
    "ad.var['chrom'].unique()"
   ]
  },
  {
   "cell_type": "code",
   "execution_count": 56,
   "metadata": {},
   "outputs": [
    {
     "name": "stdout",
     "output_type": "stream",
     "text": [
      "Selecting training samples\n",
      "Keeping 303354 intervals\n",
      "\n",
      "\n",
      "Selecting validation samples\n",
      "Keeping 17079 intervals\n",
      "\n",
      "\n",
      "Selecting test samples\n",
      "Keeping 13390 intervals\n",
      "Final sizes: train: (15, 303354), val: (15, 17079), test: (15, 13390)\n"
     ]
    }
   ],
   "source": [
    "train_chroms='autosomes'\n",
    "val_chroms=['chr3']\n",
    "test_chroms=['chr4']\n",
    "\n",
    "\n",
    "ad_train, ad_val, ad_test = grelu.data.preprocess.split(\n",
    "    ad, \n",
    "    train_chroms = train_chroms, val_chroms = val_chroms, \n",
    "    test_chroms = test_chroms,\n",
    ")"
   ]
  },
  {
   "cell_type": "markdown",
   "metadata": {},
   "source": [
    "## Make labeled sequence datasets"
   ]
  },
  {
   "cell_type": "code",
   "execution_count": 57,
   "metadata": {},
   "outputs": [],
   "source": [
    "import grelu.data.dataset"
   ]
  },
  {
   "cell_type": "code",
   "execution_count": 58,
   "metadata": {},
   "outputs": [],
   "source": [
    "train_dataset = grelu.data.dataset.AnnDataSeqDataset(\n",
    "    ad_train.copy(),\n",
    "    genome = genome,\n",
    "    rc = True, #reverse complement\n",
    "    max_seq_shift = 1, # Shift the sequence\n",
    "    augment_mode = \"random\", # Randomly select which augmentations to apply\n",
    ")"
   ]
  },
  {
   "cell_type": "code",
   "execution_count": 59,
   "metadata": {},
   "outputs": [],
   "source": [
    "val_dataset = grelu.data.dataset.AnnDataSeqDataset(ad_val.copy(), genome=genome)\n",
    "test_dataset = grelu.data.dataset.AnnDataSeqDataset(ad_test.copy(), genome=genome)"
   ]
  },
  {
   "cell_type": "markdown",
   "metadata": {},
   "source": [
    "## Build model\n",
    "\n",
    "Here we use the DiltatedConvModel"
   ]
  },
  {
   "cell_type": "code",
   "execution_count": 60,
   "metadata": {},
   "outputs": [],
   "source": [
    "model_params = {\n",
    "    'model_type':'DilatedConvModel', # Type of model\n",
    "    'n_tasks': ad.shape[0], # Number of cell types to predict\n",
    "    'crop_len':0, # No cropping of the model output. What does this really mean?\n",
    "    'channels':512,\n",
    "    'n_conv':8,\n",
    "}\n",
    "\n",
    "train_params = {\n",
    "    'task':'regression', # regression\n",
    "    'loss': 'mse', \n",
    "    'lr': 1e-4, # learning rate\n",
    "    'logger': 'csv', # Logs will be written to a CSV file\n",
    "    'batch_size':512,\n",
    "    'max_epochs':10,\n",
    "    'devices':0, # Either “cpu” or an integer or list of integers representing the indices of the GPUs for training\n",
    "    'num_workers':8,\n",
    "    'optimizer': 'adam',\n",
    "    'save_dir':experiment,\n",
    "    'checkpoint': True, # Save checkpoints\n",
    "}\n",
    "\n",
    "import grelu.lightning\n",
    "model = grelu.lightning.LightningModel(model_params, train_params)"
   ]
  },
  {
   "cell_type": "code",
   "execution_count": 61,
   "metadata": {},
   "outputs": [
    {
     "name": "stdout",
     "output_type": "stream",
     "text": [
      "LightningModel(\n",
      "  (model): DilatedConvModel(\n",
      "    (embedding): DilatedConvTrunk(\n",
      "      (conv_tower): ConvTower(\n",
      "        (blocks): ModuleList(\n",
      "          (0): Stem(\n",
      "            (conv): Conv1d(4, 512, kernel_size=(21,), stride=(1,), padding=same)\n",
      "            (act): Activation(\n",
      "              (layer): ReLU()\n",
      "            )\n",
      "            (pool): Pool(\n",
      "              (layer): Identity()\n",
      "            )\n",
      "          )\n",
      "          (1): ConvBlock(\n",
      "            (norm): Norm(\n",
      "              (layer): Identity()\n",
      "            )\n",
      "            (conv): Conv1d(512, 512, kernel_size=(3,), stride=(1,), padding=same, dilation=(2,))\n",
      "            (act): Activation(\n",
      "              (layer): ReLU()\n",
      "            )\n",
      "            (pool): Pool(\n",
      "              (layer): Identity()\n",
      "            )\n",
      "            (dropout): Dropout(\n",
      "              (layer): Identity()\n",
      "            )\n",
      "            (channel_transform): ChannelTransform(\n",
      "              (layer): Identity()\n",
      "            )\n",
      "          )\n",
      "          (2): ConvBlock(\n",
      "            (norm): Norm(\n",
      "              (layer): Identity()\n",
      "            )\n",
      "            (conv): Conv1d(512, 512, kernel_size=(3,), stride=(1,), padding=same, dilation=(4,))\n",
      "            (act): Activation(\n",
      "              (layer): ReLU()\n",
      "            )\n",
      "            (pool): Pool(\n",
      "              (layer): Identity()\n",
      "            )\n",
      "            (dropout): Dropout(\n",
      "              (layer): Identity()\n",
      "            )\n",
      "            (channel_transform): ChannelTransform(\n",
      "              (layer): Identity()\n",
      "            )\n",
      "          )\n",
      "          (3): ConvBlock(\n",
      "            (norm): Norm(\n",
      "              (layer): Identity()\n",
      "            )\n",
      "            (conv): Conv1d(512, 512, kernel_size=(3,), stride=(1,), padding=same, dilation=(8,))\n",
      "            (act): Activation(\n",
      "              (layer): ReLU()\n",
      "            )\n",
      "            (pool): Pool(\n",
      "              (layer): Identity()\n",
      "            )\n",
      "            (dropout): Dropout(\n",
      "              (layer): Identity()\n",
      "            )\n",
      "            (channel_transform): ChannelTransform(\n",
      "              (layer): Identity()\n",
      "            )\n",
      "          )\n",
      "          (4): ConvBlock(\n",
      "            (norm): Norm(\n",
      "              (layer): Identity()\n",
      "            )\n",
      "            (conv): Conv1d(512, 512, kernel_size=(3,), stride=(1,), padding=same, dilation=(16,))\n",
      "            (act): Activation(\n",
      "              (layer): ReLU()\n",
      "            )\n",
      "            (pool): Pool(\n",
      "              (layer): Identity()\n",
      "            )\n",
      "            (dropout): Dropout(\n",
      "              (layer): Identity()\n",
      "            )\n",
      "            (channel_transform): ChannelTransform(\n",
      "              (layer): Identity()\n",
      "            )\n",
      "          )\n",
      "          (5): ConvBlock(\n",
      "            (norm): Norm(\n",
      "              (layer): Identity()\n",
      "            )\n",
      "            (conv): Conv1d(512, 512, kernel_size=(3,), stride=(1,), padding=same, dilation=(32,))\n",
      "            (act): Activation(\n",
      "              (layer): ReLU()\n",
      "            )\n",
      "            (pool): Pool(\n",
      "              (layer): Identity()\n",
      "            )\n",
      "            (dropout): Dropout(\n",
      "              (layer): Identity()\n",
      "            )\n",
      "            (channel_transform): ChannelTransform(\n",
      "              (layer): Identity()\n",
      "            )\n",
      "          )\n",
      "          (6): ConvBlock(\n",
      "            (norm): Norm(\n",
      "              (layer): Identity()\n",
      "            )\n",
      "            (conv): Conv1d(512, 512, kernel_size=(3,), stride=(1,), padding=same, dilation=(64,))\n",
      "            (act): Activation(\n",
      "              (layer): ReLU()\n",
      "            )\n",
      "            (pool): Pool(\n",
      "              (layer): Identity()\n",
      "            )\n",
      "            (dropout): Dropout(\n",
      "              (layer): Identity()\n",
      "            )\n",
      "            (channel_transform): ChannelTransform(\n",
      "              (layer): Identity()\n",
      "            )\n",
      "          )\n",
      "          (7): ConvBlock(\n",
      "            (norm): Norm(\n",
      "              (layer): Identity()\n",
      "            )\n",
      "            (conv): Conv1d(512, 512, kernel_size=(3,), stride=(1,), padding=same, dilation=(128,))\n",
      "            (act): Activation(\n",
      "              (layer): ReLU()\n",
      "            )\n",
      "            (pool): Pool(\n",
      "              (layer): Identity()\n",
      "            )\n",
      "            (dropout): Dropout(\n",
      "              (layer): Identity()\n",
      "            )\n",
      "            (channel_transform): ChannelTransform(\n",
      "              (layer): Identity()\n",
      "            )\n",
      "          )\n",
      "        )\n",
      "        (crop): Crop(\n",
      "          (layer): Identity()\n",
      "        )\n",
      "      )\n",
      "    )\n",
      "    (head): ConvHead(\n",
      "      (channel_transform): ChannelTransformBlock(\n",
      "        (norm): Norm(\n",
      "          (layer): Identity()\n",
      "        )\n",
      "        (conv): ChannelTransform(\n",
      "          (layer): Conv1d(512, 15, kernel_size=(1,), stride=(1,), padding=same)\n",
      "        )\n",
      "        (act): Activation(\n",
      "          (layer): Identity()\n",
      "        )\n",
      "        (dropout): Dropout(\n",
      "          (layer): Identity()\n",
      "        )\n",
      "      )\n",
      "      (pool): AdaptivePool(\n",
      "        (layer): AdaptiveAvgPool1d(output_size=1)\n",
      "      )\n",
      "    )\n",
      "  )\n",
      "  (loss): MSELoss()\n",
      "  (activation): Identity()\n",
      "  (val_metrics): MetricCollection(\n",
      "    (mse): MSE()\n",
      "    (pearson): PearsonCorrCoef(\n",
      "      (pearson): PearsonCorrCoef()\n",
      "    ),\n",
      "    prefix=val_\n",
      "  )\n",
      "  (test_metrics): MetricCollection(\n",
      "    (mse): MSE()\n",
      "    (pearson): PearsonCorrCoef(\n",
      "      (pearson): PearsonCorrCoef()\n",
      "    ),\n",
      "    prefix=test_\n",
      "  )\n",
      "  (transform): Identity()\n",
      ")\n"
     ]
    }
   ],
   "source": [
    "print(model)"
   ]
  },
  {
   "cell_type": "markdown",
   "metadata": {},
   "source": [
    "## Train model"
   ]
  },
  {
   "cell_type": "code",
   "execution_count": 62,
   "metadata": {},
   "outputs": [
    {
     "name": "stderr",
     "output_type": "stream",
     "text": [
      "GPU available: True (cuda), used: True\n",
      "TPU available: False, using: 0 TPU cores\n",
      "HPU available: False, using: 0 HPUs\n",
      "LOCAL_RANK: 0 - CUDA_VISIBLE_DEVICES: [0]\n"
     ]
    },
    {
     "name": "stdout",
     "output_type": "stream",
     "text": [
      "Validation DataLoader 0: 100%|██████████| 34/34 [00:03<00:00,  8.82it/s]\n",
      "────────────────────────────────────────────────────────────────────────────────────────────────────────────────────────\n",
      "     Validate metric           DataLoader 0\n",
      "────────────────────────────────────────────────────────────────────────────────────────────────────────────────────────\n",
      "        val_loss             7.611850738525391\n",
      "         val_mse             7.537647724151611\n",
      "       val_pearson                  nan\n",
      "────────────────────────────────────────────────────────────────────────────────────────────────────────────────────────\n"
     ]
    },
    {
     "name": "stderr",
     "output_type": "stream",
     "text": [
      "/home/fgsasse_lrs_2/miniconda3/envs/lab-rotation/lib/python3.9/site-packages/torchmetrics/utilities/prints.py:43: UserWarning: The variance of predictions or target is close to zero. This can cause instability in Pearson correlationcoefficient, leading to wrong results. Consider re-scaling the input if possible or computing using alarger dtype (currently using torch.float32). Setting the correlation coefficient to nan.\n",
      "LOCAL_RANK: 0 - CUDA_VISIBLE_DEVICES: [0]\n",
      "\n",
      "  | Name         | Type             | Params | Mode \n",
      "----------------------------------------------------------\n",
      "0 | model        | DilatedConvModel | 5.6 M  | train\n",
      "1 | loss         | MSELoss          | 0      | train\n",
      "2 | activation   | Identity         | 0      | train\n",
      "3 | val_metrics  | MetricCollection | 0      | train\n",
      "4 | test_metrics | MetricCollection | 0      | train\n",
      "5 | transform    | Identity         | 0      | train\n",
      "----------------------------------------------------------\n",
      "5.6 M     Trainable params\n",
      "0         Non-trainable params\n",
      "5.6 M     Total params\n",
      "22.239    Total estimated model params size (MB)\n",
      "119       Modules in train mode\n",
      "0         Modules in eval mode\n"
     ]
    },
    {
     "name": "stdout",
     "output_type": "stream",
     "text": [
      "                                                                           \r"
     ]
    },
    {
     "name": "stderr",
     "output_type": "stream",
     "text": [
      "/home/fgsasse_lrs_2/miniconda3/envs/lab-rotation/lib/python3.9/site-packages/torchmetrics/utilities/prints.py:43: UserWarning: The variance of predictions or target is close to zero. This can cause instability in Pearson correlationcoefficient, leading to wrong results. Consider re-scaling the input if possible or computing using alarger dtype (currently using torch.float32). Setting the correlation coefficient to nan.\n"
     ]
    },
    {
     "name": "stdout",
     "output_type": "stream",
     "text": [
      "Epoch 9: 100%|██████████| 593/593 [03:21<00:00,  2.94it/s, v_num=0, train_loss_step=0.877, train_loss_epoch=0.914]"
     ]
    },
    {
     "name": "stderr",
     "output_type": "stream",
     "text": [
      "`Trainer.fit` stopped: `max_epochs=10` reached.\n"
     ]
    },
    {
     "name": "stdout",
     "output_type": "stream",
     "text": [
      "Epoch 9: 100%|██████████| 593/593 [03:22<00:00,  2.93it/s, v_num=0, train_loss_step=0.877, train_loss_epoch=0.914]\n"
     ]
    }
   ],
   "source": [
    "# See the 'single_task_1' folder for logs\n",
    "trainer = model.train_on_dataset(\n",
    "    train_dataset=train_dataset,\n",
    "    val_dataset=val_dataset,\n",
    ")"
   ]
  },
  {
   "cell_type": "markdown",
   "metadata": {},
   "source": [
    "## Load best model from checkpoint"
   ]
  },
  {
   "cell_type": "code",
   "execution_count": 63,
   "metadata": {},
   "outputs": [
    {
     "name": "stdout",
     "output_type": "stream",
     "text": [
      "multi_task_1/2025_22_04_15_23/version_0/checkpoints/epoch=8-step=5337.ckpt\n"
     ]
    }
   ],
   "source": [
    "best_checkpoint = trainer.checkpoint_callback.best_model_path\n",
    "print(best_checkpoint)\n",
    "model = grelu.lightning.LightningModel.load_from_checkpoint(best_checkpoint)"
   ]
  },
  {
   "cell_type": "markdown",
   "metadata": {},
   "source": [
    "## Evaluate model on the test set"
   ]
  },
  {
   "cell_type": "code",
   "execution_count": 64,
   "metadata": {},
   "outputs": [
    {
     "name": "stderr",
     "output_type": "stream",
     "text": [
      "You are using the plain ModelCheckpoint callback. Consider using LitModelCheckpoint which with seamless uploading to Model registry.\n",
      "GPU available: True (cuda), used: True\n",
      "TPU available: False, using: 0 TPU cores\n",
      "HPU available: False, using: 0 HPUs\n",
      "LOCAL_RANK: 0 - CUDA_VISIBLE_DEVICES: [0]\n"
     ]
    },
    {
     "name": "stdout",
     "output_type": "stream",
     "text": [
      "Testing DataLoader 0: 100%|██████████| 53/53 [00:03<00:00, 17.07it/s]\n",
      "────────────────────────────────────────────────────────────────────────────────────────────────────────────────────────\n",
      "       Test metric             DataLoader 0\n",
      "────────────────────────────────────────────────────────────────────────────────────────────────────────────────────────\n",
      "        test_loss           1.1922259330749512\n",
      "        test_mse            1.1961851119995117\n",
      "      test_pearson          0.39259907603263855\n",
      "────────────────────────────────────────────────────────────────────────────────────────────────────────────────────────\n"
     ]
    }
   ],
   "source": [
    "test_metrics = model.test_on_dataset(\n",
    "    test_dataset,\n",
    "    devices=0,\n",
    "    num_workers=8,\n",
    "    batch_size=256,\n",
    ")"
   ]
  },
  {
   "cell_type": "markdown",
   "metadata": {},
   "source": [
    "## Run inference on held out sequences"
   ]
  },
  {
   "cell_type": "code",
   "execution_count": 65,
   "metadata": {},
   "outputs": [
    {
     "name": "stderr",
     "output_type": "stream",
     "text": [
      "You are using the plain ModelCheckpoint callback. Consider using LitModelCheckpoint which with seamless uploading to Model registry.\n",
      "GPU available: True (cuda), used: True\n",
      "TPU available: False, using: 0 TPU cores\n",
      "HPU available: False, using: 0 HPUs\n",
      "LOCAL_RANK: 0 - CUDA_VISIBLE_DEVICES: [0]\n"
     ]
    },
    {
     "name": "stdout",
     "output_type": "stream",
     "text": [
      "Predicting DataLoader 0: 100%|██████████| 53/53 [00:03<00:00, 17.60it/s]\n"
     ]
    },
    {
     "data": {
      "text/plain": [
       "(13390, 15, 1)"
      ]
     },
     "execution_count": 65,
     "metadata": {},
     "output_type": "execute_result"
    }
   ],
   "source": [
    "preds = model.predict_on_dataset(\n",
    "    test_dataset, devices=0, num_workers=8\n",
    "    )\n",
    "preds.shape"
   ]
  },
  {
   "cell_type": "code",
   "execution_count": 66,
   "metadata": {},
   "outputs": [
    {
     "name": "stderr",
     "output_type": "stream",
     "text": [
      "You are using the plain ModelCheckpoint callback. Consider using LitModelCheckpoint which with seamless uploading to Model registry.\n",
      "GPU available: True (cuda), used: True\n",
      "TPU available: False, using: 0 TPU cores\n",
      "HPU available: False, using: 0 HPUs\n",
      "LOCAL_RANK: 0 - CUDA_VISIBLE_DEVICES: [0]\n"
     ]
    },
    {
     "name": "stdout",
     "output_type": "stream",
     "text": [
      "Predicting DataLoader 0: 100%|██████████| 53/53 [00:03<00:00, 17.60it/s]\n"
     ]
    },
    {
     "data": {
      "text/html": [
       "<div>\n",
       "<style scoped>\n",
       "    .dataframe tbody tr th:only-of-type {\n",
       "        vertical-align: middle;\n",
       "    }\n",
       "\n",
       "    .dataframe tbody tr th {\n",
       "        vertical-align: top;\n",
       "    }\n",
       "\n",
       "    .dataframe thead th {\n",
       "        text-align: right;\n",
       "    }\n",
       "</style>\n",
       "<table border=\"1\" class=\"dataframe\">\n",
       "  <thead>\n",
       "    <tr style=\"text-align: right;\">\n",
       "      <th></th>\n",
       "      <th>anterior/posterior axis</th>\n",
       "      <th>central nervous system</th>\n",
       "      <th>forebrain</th>\n",
       "      <th>immature eye</th>\n",
       "      <th>integument</th>\n",
       "      <th>lateral plate mesoderm</th>\n",
       "      <th>mesenchyme cell</th>\n",
       "      <th>musculature system</th>\n",
       "      <th>neural crest</th>\n",
       "      <th>neural keel</th>\n",
       "      <th>neural stem cell</th>\n",
       "      <th>periderm/epidermis</th>\n",
       "      <th>primary neuron</th>\n",
       "      <th>segmental plate</th>\n",
       "      <th>YSL</th>\n",
       "    </tr>\n",
       "  </thead>\n",
       "  <tbody>\n",
       "    <tr>\n",
       "      <th>0</th>\n",
       "      <td>2.337866</td>\n",
       "      <td>2.337668</td>\n",
       "      <td>2.325721</td>\n",
       "      <td>2.303970</td>\n",
       "      <td>2.353209</td>\n",
       "      <td>2.307984</td>\n",
       "      <td>2.351334</td>\n",
       "      <td>2.296268</td>\n",
       "      <td>2.306596</td>\n",
       "      <td>2.334677</td>\n",
       "      <td>2.376333</td>\n",
       "      <td>2.378273</td>\n",
       "      <td>2.503592</td>\n",
       "      <td>2.337805</td>\n",
       "      <td>2.638943</td>\n",
       "    </tr>\n",
       "    <tr>\n",
       "      <th>1</th>\n",
       "      <td>2.036268</td>\n",
       "      <td>2.064192</td>\n",
       "      <td>1.916051</td>\n",
       "      <td>1.963705</td>\n",
       "      <td>2.112835</td>\n",
       "      <td>2.002689</td>\n",
       "      <td>2.047206</td>\n",
       "      <td>2.133738</td>\n",
       "      <td>2.041545</td>\n",
       "      <td>2.044926</td>\n",
       "      <td>1.985669</td>\n",
       "      <td>2.196030</td>\n",
       "      <td>2.055788</td>\n",
       "      <td>2.091377</td>\n",
       "      <td>2.233588</td>\n",
       "    </tr>\n",
       "    <tr>\n",
       "      <th>2</th>\n",
       "      <td>1.853532</td>\n",
       "      <td>1.832697</td>\n",
       "      <td>1.698206</td>\n",
       "      <td>1.717730</td>\n",
       "      <td>1.978094</td>\n",
       "      <td>1.848101</td>\n",
       "      <td>1.898735</td>\n",
       "      <td>2.008554</td>\n",
       "      <td>1.886568</td>\n",
       "      <td>1.838950</td>\n",
       "      <td>1.734470</td>\n",
       "      <td>2.091789</td>\n",
       "      <td>1.882006</td>\n",
       "      <td>1.933719</td>\n",
       "      <td>2.392678</td>\n",
       "    </tr>\n",
       "    <tr>\n",
       "      <th>3</th>\n",
       "      <td>2.782738</td>\n",
       "      <td>2.744865</td>\n",
       "      <td>2.751081</td>\n",
       "      <td>2.821944</td>\n",
       "      <td>2.967991</td>\n",
       "      <td>2.883208</td>\n",
       "      <td>3.073868</td>\n",
       "      <td>2.803445</td>\n",
       "      <td>2.858552</td>\n",
       "      <td>2.923788</td>\n",
       "      <td>3.009912</td>\n",
       "      <td>2.809453</td>\n",
       "      <td>3.043293</td>\n",
       "      <td>2.857049</td>\n",
       "      <td>2.676149</td>\n",
       "    </tr>\n",
       "    <tr>\n",
       "      <th>4</th>\n",
       "      <td>2.619051</td>\n",
       "      <td>2.807729</td>\n",
       "      <td>2.652213</td>\n",
       "      <td>2.633376</td>\n",
       "      <td>2.539722</td>\n",
       "      <td>2.647430</td>\n",
       "      <td>2.727164</td>\n",
       "      <td>2.559699</td>\n",
       "      <td>2.654858</td>\n",
       "      <td>2.764772</td>\n",
       "      <td>2.723114</td>\n",
       "      <td>2.405354</td>\n",
       "      <td>2.754776</td>\n",
       "      <td>2.639422</td>\n",
       "      <td>2.158624</td>\n",
       "    </tr>\n",
       "  </tbody>\n",
       "</table>\n",
       "</div>"
      ],
      "text/plain": [
       "   anterior/posterior axis  central nervous system  forebrain  immature eye  \\\n",
       "0                 2.337866                2.337668   2.325721      2.303970   \n",
       "1                 2.036268                2.064192   1.916051      1.963705   \n",
       "2                 1.853532                1.832697   1.698206      1.717730   \n",
       "3                 2.782738                2.744865   2.751081      2.821944   \n",
       "4                 2.619051                2.807729   2.652213      2.633376   \n",
       "\n",
       "   integument  lateral plate mesoderm  mesenchyme cell  musculature system  \\\n",
       "0    2.353209                2.307984         2.351334            2.296268   \n",
       "1    2.112835                2.002689         2.047206            2.133738   \n",
       "2    1.978094                1.848101         1.898735            2.008554   \n",
       "3    2.967991                2.883208         3.073868            2.803445   \n",
       "4    2.539722                2.647430         2.727164            2.559699   \n",
       "\n",
       "   neural crest  neural keel  neural stem cell  periderm/epidermis  \\\n",
       "0      2.306596     2.334677          2.376333            2.378273   \n",
       "1      2.041545     2.044926          1.985669            2.196030   \n",
       "2      1.886568     1.838950          1.734470            2.091789   \n",
       "3      2.858552     2.923788          3.009912            2.809453   \n",
       "4      2.654858     2.764772          2.723114            2.405354   \n",
       "\n",
       "   primary neuron  segmental plate       YSL  \n",
       "0        2.503592         2.337805  2.638943  \n",
       "1        2.055788         2.091377  2.233588  \n",
       "2        1.882006         1.933719  2.392678  \n",
       "3        3.043293         2.857049  2.676149  \n",
       "4        2.754776         2.639422  2.158624  "
      ]
     },
     "execution_count": 66,
     "metadata": {},
     "output_type": "execute_result"
    }
   ],
   "source": [
    "preds_df = model.predict_on_dataset(\n",
    "    test_dataset, devices=0, num_workers=8,\n",
    "    return_df=True # Return the output as a pandas dataframe\n",
    "    )\n",
    "preds_df.head()"
   ]
  },
  {
   "cell_type": "code",
   "execution_count": 78,
   "metadata": {},
   "outputs": [],
   "source": [
    "import grelu.visualize"
   ]
  },
  {
   "cell_type": "code",
   "execution_count": 79,
   "metadata": {},
   "outputs": [
    {
     "data": {
      "text/plain": [
       "'\\ngrelu.visualize.plot_pred_scatter(\\n    preds=preds,\\n    labels=test_dataset.get_labels(),\\n    density=True, # Color points by local density\\n    figsize=(3, 2.5), # width, height\\n    size=.5\\n)\\n'"
      ]
     },
     "execution_count": 79,
     "metadata": {},
     "output_type": "execute_result"
    }
   ],
   "source": [
    "'''\n",
    "grelu.visualize.plot_pred_scatter(\n",
    "    preds=preds,\n",
    "    labels=test_dataset.get_labels(),\n",
    "    density=True, # Color points by local density\n",
    "    figsize=(3, 2.5), # width, height\n",
    "    size=.5\n",
    ")\n",
    "'''"
   ]
  },
  {
   "cell_type": "markdown",
   "metadata": {},
   "source": [
    "## Correlations for each cell type in test set"
   ]
  },
  {
   "cell_type": "code",
   "execution_count": 77,
   "metadata": {},
   "outputs": [
    {
     "data": {
      "text/html": [
       "<div>\n",
       "<style scoped>\n",
       "    .dataframe tbody tr th:only-of-type {\n",
       "        vertical-align: middle;\n",
       "    }\n",
       "\n",
       "    .dataframe tbody tr th {\n",
       "        vertical-align: top;\n",
       "    }\n",
       "\n",
       "    .dataframe thead th {\n",
       "        text-align: right;\n",
       "    }\n",
       "</style>\n",
       "<table border=\"1\" class=\"dataframe\">\n",
       "  <thead>\n",
       "    <tr style=\"text-align: right;\">\n",
       "      <th></th>\n",
       "      <th>test_mse</th>\n",
       "      <th>test_pearson</th>\n",
       "    </tr>\n",
       "  </thead>\n",
       "  <tbody>\n",
       "    <tr>\n",
       "      <th>central nervous system</th>\n",
       "      <td>1.173274</td>\n",
       "      <td>0.456523</td>\n",
       "    </tr>\n",
       "    <tr>\n",
       "      <th>neural stem cell</th>\n",
       "      <td>1.142073</td>\n",
       "      <td>0.452474</td>\n",
       "    </tr>\n",
       "    <tr>\n",
       "      <th>neural keel</th>\n",
       "      <td>1.030052</td>\n",
       "      <td>0.448578</td>\n",
       "    </tr>\n",
       "    <tr>\n",
       "      <th>mesenchyme cell</th>\n",
       "      <td>1.138968</td>\n",
       "      <td>0.427892</td>\n",
       "    </tr>\n",
       "    <tr>\n",
       "      <th>primary neuron</th>\n",
       "      <td>1.170282</td>\n",
       "      <td>0.424233</td>\n",
       "    </tr>\n",
       "    <tr>\n",
       "      <th>forebrain</th>\n",
       "      <td>1.281762</td>\n",
       "      <td>0.422914</td>\n",
       "    </tr>\n",
       "    <tr>\n",
       "      <th>immature eye</th>\n",
       "      <td>1.178781</td>\n",
       "      <td>0.415002</td>\n",
       "    </tr>\n",
       "    <tr>\n",
       "      <th>segmental plate</th>\n",
       "      <td>1.138191</td>\n",
       "      <td>0.406046</td>\n",
       "    </tr>\n",
       "    <tr>\n",
       "      <th>anterior/posterior axis</th>\n",
       "      <td>1.129756</td>\n",
       "      <td>0.401470</td>\n",
       "    </tr>\n",
       "    <tr>\n",
       "      <th>lateral plate mesoderm</th>\n",
       "      <td>1.210467</td>\n",
       "      <td>0.398726</td>\n",
       "    </tr>\n",
       "    <tr>\n",
       "      <th>neural crest</th>\n",
       "      <td>1.175699</td>\n",
       "      <td>0.382345</td>\n",
       "    </tr>\n",
       "    <tr>\n",
       "      <th>integument</th>\n",
       "      <td>1.274128</td>\n",
       "      <td>0.352902</td>\n",
       "    </tr>\n",
       "    <tr>\n",
       "      <th>musculature system</th>\n",
       "      <td>1.251823</td>\n",
       "      <td>0.350809</td>\n",
       "    </tr>\n",
       "    <tr>\n",
       "      <th>periderm/epidermis</th>\n",
       "      <td>1.327316</td>\n",
       "      <td>0.287771</td>\n",
       "    </tr>\n",
       "    <tr>\n",
       "      <th>YSL</th>\n",
       "      <td>1.320206</td>\n",
       "      <td>0.261299</td>\n",
       "    </tr>\n",
       "  </tbody>\n",
       "</table>\n",
       "</div>"
      ],
      "text/plain": [
       "                         test_mse  test_pearson\n",
       "central nervous system   1.173274      0.456523\n",
       "neural stem cell         1.142073      0.452474\n",
       "neural keel              1.030052      0.448578\n",
       "mesenchyme cell          1.138968      0.427892\n",
       "primary neuron           1.170282      0.424233\n",
       "forebrain                1.281762      0.422914\n",
       "immature eye             1.178781      0.415002\n",
       "segmental plate          1.138191      0.406046\n",
       "anterior/posterior axis  1.129756      0.401470\n",
       "lateral plate mesoderm   1.210467      0.398726\n",
       "neural crest             1.175699      0.382345\n",
       "integument               1.274128      0.352902\n",
       "musculature system       1.251823      0.350809\n",
       "periderm/epidermis       1.327316      0.287771\n",
       "YSL                      1.320206      0.261299"
      ]
     },
     "execution_count": 77,
     "metadata": {},
     "output_type": "execute_result"
    }
   ],
   "source": [
    "test_metrics.sort_values(by = 'test_pearson', ascending= False)"
   ]
  },
  {
   "cell_type": "markdown",
   "metadata": {},
   "source": [
    "## Interpreting model predictions (for central nervous system)"
   ]
  },
  {
   "cell_type": "markdown",
   "metadata": {},
   "source": [
    "**Note**: We want to find out what the model thinks that is important in the sequence to get a high signal.\n",
    "grelu has a few methods that you can easily select (saliency, integratedgradients, and deepliftshap)\n",
    "However, you won't be able to use deepliftshap if you trained a model with GELU or with attention"
   ]
  },
  {
   "cell_type": "markdown",
   "metadata": {},
   "source": [
    "Based on the Pearson correlation coefficients from the previous section, we use the cell type with the highest correlation coefficient (i.e. strongest prediction) which in this case is **neural keel**"
   ]
  },
  {
   "cell_type": "code",
   "execution_count": 81,
   "metadata": {},
   "outputs": [
    {
     "data": {
      "image/png": "[encoded data removed]"
     },
     "metadata": {
      "image/png": {
       "height": 250,
       "width": 300
      }
     },
     "output_type": "display_data"
    }
   ],
   "source": [
    "import plotnine as p9\n",
    "\n",
    "fig = grelu.visualize.plot_pred_scatter(\n",
    "    preds=preds,\n",
    "    labels=test_dataset.get_labels(),\n",
    "    tasks= [1], # neural keel is in position 10\n",
    "    density=True, # Color points by local density\n",
    "    figsize=(3, 2.5), # width, height\n",
    "    size=.5\n",
    ")\n",
    "\n",
    "fig + p9.labs(title = f'{ad.obs_names[1]}')"
   ]
  },
  {
   "cell_type": "code",
   "execution_count": 82,
   "metadata": {},
   "outputs": [
    {
     "data": {
      "text/html": [
       "<div>\n",
       "<style scoped>\n",
       "    .dataframe tbody tr th:only-of-type {\n",
       "        vertical-align: middle;\n",
       "    }\n",
       "\n",
       "    .dataframe tbody tr th {\n",
       "        vertical-align: top;\n",
       "    }\n",
       "\n",
       "    .dataframe thead th {\n",
       "        text-align: right;\n",
       "    }\n",
       "</style>\n",
       "<table border=\"1\" class=\"dataframe\">\n",
       "  <thead>\n",
       "    <tr style=\"text-align: right;\">\n",
       "      <th></th>\n",
       "      <th>chrom</th>\n",
       "      <th>start</th>\n",
       "      <th>end</th>\n",
       "    </tr>\n",
       "  </thead>\n",
       "  <tbody>\n",
       "    <tr>\n",
       "      <th>49447</th>\n",
       "      <td>chr4</td>\n",
       "      <td>1366</td>\n",
       "      <td>1866</td>\n",
       "    </tr>\n",
       "    <tr>\n",
       "      <th>49448</th>\n",
       "      <td>chr4</td>\n",
       "      <td>2941</td>\n",
       "      <td>3441</td>\n",
       "    </tr>\n",
       "    <tr>\n",
       "      <th>49449</th>\n",
       "      <td>chr4</td>\n",
       "      <td>4405</td>\n",
       "      <td>4905</td>\n",
       "    </tr>\n",
       "    <tr>\n",
       "      <th>49450</th>\n",
       "      <td>chr4</td>\n",
       "      <td>5949</td>\n",
       "      <td>6449</td>\n",
       "    </tr>\n",
       "    <tr>\n",
       "      <th>49451</th>\n",
       "      <td>chr4</td>\n",
       "      <td>12663</td>\n",
       "      <td>13163</td>\n",
       "    </tr>\n",
       "    <tr>\n",
       "      <th>...</th>\n",
       "      <td>...</td>\n",
       "      <td>...</td>\n",
       "      <td>...</td>\n",
       "    </tr>\n",
       "    <tr>\n",
       "      <th>62832</th>\n",
       "      <td>chr4</td>\n",
       "      <td>78056155</td>\n",
       "      <td>78056655</td>\n",
       "    </tr>\n",
       "    <tr>\n",
       "      <th>62833</th>\n",
       "      <td>chr4</td>\n",
       "      <td>78058123</td>\n",
       "      <td>78058623</td>\n",
       "    </tr>\n",
       "    <tr>\n",
       "      <th>62834</th>\n",
       "      <td>chr4</td>\n",
       "      <td>78083093</td>\n",
       "      <td>78083593</td>\n",
       "    </tr>\n",
       "    <tr>\n",
       "      <th>62835</th>\n",
       "      <td>chr4</td>\n",
       "      <td>78084337</td>\n",
       "      <td>78084837</td>\n",
       "    </tr>\n",
       "    <tr>\n",
       "      <th>62836</th>\n",
       "      <td>chr4</td>\n",
       "      <td>78089755</td>\n",
       "      <td>78090255</td>\n",
       "    </tr>\n",
       "  </tbody>\n",
       "</table>\n",
       "<p>13390 rows × 3 columns</p>\n",
       "</div>"
      ],
      "text/plain": [
       "      chrom     start       end\n",
       "49447  chr4      1366      1866\n",
       "49448  chr4      2941      3441\n",
       "49449  chr4      4405      4905\n",
       "49450  chr4      5949      6449\n",
       "49451  chr4     12663     13163\n",
       "...     ...       ...       ...\n",
       "62832  chr4  78056155  78056655\n",
       "62833  chr4  78058123  78058623\n",
       "62834  chr4  78083093  78083593\n",
       "62835  chr4  78084337  78084837\n",
       "62836  chr4  78089755  78090255\n",
       "\n",
       "[13390 rows x 3 columns]"
      ]
     },
     "execution_count": 82,
     "metadata": {},
     "output_type": "execute_result"
    }
   ],
   "source": [
    "ad_test.var"
   ]
  },
  {
   "cell_type": "code",
   "execution_count": 83,
   "metadata": {},
   "outputs": [
    {
     "data": {
      "text/html": [
       "<div>\n",
       "<style scoped>\n",
       "    .dataframe tbody tr th:only-of-type {\n",
       "        vertical-align: middle;\n",
       "    }\n",
       "\n",
       "    .dataframe tbody tr th {\n",
       "        vertical-align: top;\n",
       "    }\n",
       "\n",
       "    .dataframe thead th {\n",
       "        text-align: right;\n",
       "    }\n",
       "</style>\n",
       "<table border=\"1\" class=\"dataframe\">\n",
       "  <thead>\n",
       "    <tr style=\"text-align: right;\">\n",
       "      <th></th>\n",
       "      <th>central nervous system</th>\n",
       "    </tr>\n",
       "  </thead>\n",
       "  <tbody>\n",
       "    <tr>\n",
       "      <th>1279</th>\n",
       "      <td>5.183001</td>\n",
       "    </tr>\n",
       "    <tr>\n",
       "      <th>95</th>\n",
       "      <td>4.968394</td>\n",
       "    </tr>\n",
       "    <tr>\n",
       "      <th>3538</th>\n",
       "      <td>4.925605</td>\n",
       "    </tr>\n",
       "    <tr>\n",
       "      <th>3249</th>\n",
       "      <td>4.922588</td>\n",
       "    </tr>\n",
       "    <tr>\n",
       "      <th>10161</th>\n",
       "      <td>4.852667</td>\n",
       "    </tr>\n",
       "    <tr>\n",
       "      <th>...</th>\n",
       "      <td>...</td>\n",
       "    </tr>\n",
       "    <tr>\n",
       "      <th>8812</th>\n",
       "      <td>0.946155</td>\n",
       "    </tr>\n",
       "    <tr>\n",
       "      <th>9989</th>\n",
       "      <td>0.935138</td>\n",
       "    </tr>\n",
       "    <tr>\n",
       "      <th>8131</th>\n",
       "      <td>0.923095</td>\n",
       "    </tr>\n",
       "    <tr>\n",
       "      <th>1388</th>\n",
       "      <td>0.918897</td>\n",
       "    </tr>\n",
       "    <tr>\n",
       "      <th>8708</th>\n",
       "      <td>0.743822</td>\n",
       "    </tr>\n",
       "  </tbody>\n",
       "</table>\n",
       "<p>13390 rows × 1 columns</p>\n",
       "</div>"
      ],
      "text/plain": [
       "       central nervous system\n",
       "1279                 5.183001\n",
       "95                   4.968394\n",
       "3538                 4.925605\n",
       "3249                 4.922588\n",
       "10161                4.852667\n",
       "...                       ...\n",
       "8812                 0.946155\n",
       "9989                 0.935138\n",
       "8131                 0.923095\n",
       "1388                 0.918897\n",
       "8708                 0.743822\n",
       "\n",
       "[13390 rows x 1 columns]"
      ]
     },
     "execution_count": 83,
     "metadata": {},
     "output_type": "execute_result"
    }
   ],
   "source": [
    "preds_df[['central nervous system']].sort_values(by = \"central nervous system\", ascending=False)"
   ]
  },
  {
   "cell_type": "code",
   "execution_count": 84,
   "metadata": {},
   "outputs": [
    {
     "data": {
      "text/plain": [
       "500"
      ]
     },
     "execution_count": 84,
     "metadata": {},
     "output_type": "execute_result"
    }
   ],
   "source": [
    "import grelu.sequence.format\n",
    "\n",
    "input_seqs = grelu.sequence.format.convert_input_type(\n",
    "    ad_test.var,\n",
    "    output_type=\"strings\",\n",
    "    genome=genome\n",
    ")\n",
    "input_seq = input_seqs[1279]\n",
    "\n",
    "len(input_seq)"
   ]
  },
  {
   "cell_type": "code",
   "execution_count": 85,
   "metadata": {},
   "outputs": [
    {
     "data": {
      "text/plain": [
       "'GTCATATTAT'"
      ]
     },
     "execution_count": 85,
     "metadata": {},
     "output_type": "execute_result"
    }
   ],
   "source": [
    "input_seq[:10]"
   ]
  },
  {
   "cell_type": "code",
   "execution_count": 86,
   "metadata": {},
   "outputs": [
    {
     "data": {
      "text/plain": [
       "13390"
      ]
     },
     "execution_count": 86,
     "metadata": {},
     "output_type": "execute_result"
    }
   ],
   "source": [
    "len(input_seqs)"
   ]
  },
  {
   "cell_type": "markdown",
   "metadata": {},
   "source": [
    "`input_seqs` contains sequences for each of the 13390 chromosomes in the test set `ad_test`."
   ]
  },
  {
   "cell_type": "markdown",
   "metadata": {},
   "source": [
    "### Forward propagation of influence using in silico mutagenesis (ISM)"
   ]
  },
  {
   "cell_type": "code",
   "execution_count": 90,
   "metadata": {},
   "outputs": [
    {
     "data": {
      "text/plain": [
       "Aggregate()"
      ]
     },
     "execution_count": 90,
     "metadata": {},
     "output_type": "execute_result"
    }
   ],
   "source": [
    "from grelu.transforms.prediction_transforms import Aggregate\n",
    "\n",
    "cns_peaks = Aggregate(\n",
    "    tasks = [\"central nervous system\"],\n",
    "    model = model,\n",
    ")\n",
    "\n",
    "neural_keel_peaks"
   ]
  },
  {
   "cell_type": "code",
   "execution_count": 91,
   "metadata": {},
   "outputs": [],
   "source": [
    "import grelu.interpret.score"
   ]
  },
  {
   "cell_type": "code",
   "execution_count": 92,
   "metadata": {},
   "outputs": [
    {
     "name": "stderr",
     "output_type": "stream",
     "text": [
      "/home/fgsasse_lrs_2/miniconda3/envs/lab-rotation/lib/python3.9/site-packages/captum/_utils/gradient.py:57: UserWarning: Input Tensor 0 did not already require gradients, required_grads has been set automatically.\n"
     ]
    }
   ],
   "source": [
    "attrs = grelu.interpret.score.get_attributions(\n",
    "    model, input_seq, prediction_transform=cns_peaks, device=0,\n",
    "    method=\"inputxgradient\",\n",
    ")"
   ]
  },
  {
   "cell_type": "code",
   "execution_count": 88,
   "metadata": {},
   "outputs": [
    {
     "data": {
      "text/plain": [
       "'\\n%%time\\nism = grelu.interpret.score.ISM_predict(\\n    input_seq,\\n    model,\\n    genome = genome,\\n    prediction_transform=neural_keel_peaks, # Focus on the prediction in neural_keel_peaks\\n    devices=0, # Index of the GPU to use\\n    num_workers=8,\\n    return_df = True,\\n    compare_func=\"subtract\",\\n)\\n'"
      ]
     },
     "execution_count": 88,
     "metadata": {},
     "output_type": "execute_result"
    }
   ],
   "source": [
    "'''\n",
    "%%time\n",
    "ism = grelu.interpret.score.ISM_predict(\n",
    "    input_seq,\n",
    "    model,\n",
    "    genome = genome,\n",
    "    prediction_transform=neural_keel_peaks, # Focus on the prediction in neural_keel_peaks\n",
    "    devices=0, # Index of the GPU to use\n",
    "    num_workers=8,\n",
    "    return_df = True,\n",
    "    compare_func=\"subtract\",\n",
    ")\n",
    "'''"
   ]
  },
  {
   "cell_type": "code",
   "execution_count": 93,
   "metadata": {},
   "outputs": [
    {
     "data": {
      "text/plain": [
       "<logomaker.src.Logo.Logo at 0x7f7596e10e20>"
      ]
     },
     "execution_count": 93,
     "metadata": {},
     "output_type": "execute_result"
    },
    {
     "data": {
      "image/png": "[encoded data removed]",
      "text/plain": [
       "<Figure size 2000x200 with 1 Axes>"
      ]
     },
     "metadata": {},
     "output_type": "display_data"
    }
   ],
   "source": [
    "grelu.visualize.plot_attributions(\n",
    "    attrs, \n",
    "    ticks=10,\n",
    ")"
   ]
  },
  {
   "cell_type": "code",
   "execution_count": 94,
   "metadata": {},
   "outputs": [],
   "source": [
    "#ism"
   ]
  },
  {
   "cell_type": "code",
   "execution_count": 95,
   "metadata": {},
   "outputs": [
    {
     "data": {
      "text/plain": [
       "'\\n%matplotlib inline\\ngrelu.visualize.plot_ISM(\\n    ism, method=\"heatmap\", center=0, figsize=(20, 1.5),\\n)\\n'"
      ]
     },
     "execution_count": 95,
     "metadata": {},
     "output_type": "execute_result"
    }
   ],
   "source": [
    "'''\n",
    "%matplotlib inline\n",
    "grelu.visualize.plot_ISM(\n",
    "    ism, method=\"heatmap\", center=0, figsize=(20, 1.5),\n",
    ")\n",
    "'''"
   ]
  },
  {
   "cell_type": "code",
   "execution_count": 96,
   "metadata": {},
   "outputs": [
    {
     "data": {
      "text/plain": [
       "\"\\ngrelu.visualize.plot_ISM(\\n    ism, method='logo', figsize=(20, 1.5), highlight_positions=[99], edgecolor='red'\\n)\\n\""
      ]
     },
     "execution_count": 96,
     "metadata": {},
     "output_type": "execute_result"
    }
   ],
   "source": [
    "'''\n",
    "grelu.visualize.plot_ISM(\n",
    "    ism, method='logo', figsize=(20, 1.5), highlight_positions=[99], edgecolor='red'\n",
    ")\n",
    "'''"
   ]
  },
  {
   "cell_type": "markdown",
   "metadata": {},
   "source": [
    "### From local propagation results to global interpretation"
   ]
  },
  {
   "cell_type": "markdown",
   "metadata": {},
   "source": [
    "Inspecting the local file path for the `consensus` local meme file database"
   ]
  },
  {
   "cell_type": "code",
   "execution_count": null,
   "metadata": {},
   "outputs": [
    {
     "data": {
      "text/plain": [
       "'/Users/victoremenike/anaconda3/envs/deeplife/lib/python3.11/site-packages/grelu/resources/meme/jaspar_2024_consensus.meme'"
      ]
     },
     "execution_count": 391,
     "metadata": {},
     "output_type": "execute_result"
    }
   ],
   "source": [
    "'''import grelu.resources\n",
    "\n",
    "grelu.resources.get_meme_file_path(meme_motif_db = 'consensus') \n",
    "'''"
   ]
  },
  {
   "cell_type": "markdown",
   "metadata": {},
   "source": [
    "The regulatory motifs for Zebra fish (Danio Rerio) were obtained from the [`SwissRegulon Portal`](https://swissregulon.unibas.ch/data/dr11/dr11_weight_matrices) as produced by the publication:\n",
    "\n",
    "Baranasic, D., Hörtenhuber, M., Balwierz, P.J. et al. Multiomic atlas with functional stratification and developmental dynamics of zebrafish cis-regulatory elements. Nat Genet 54, 1037–1050 (2022). https://doi.org/10.1038/s41588-022-01089-w\n",
    "\n",
    "Furthermore, the regulatory motifs (weight matrices) was converted from its original TRANSFAC 'matrix.dat' file into a MEME motif file by using the `transfac2meme` motif conversion utility from the [`The MEME Suite`](https://web.mit.edu/meme_v4.11.4/share/doc/transfac2meme.html).\n",
    "\n"
   ]
  },
  {
   "cell_type": "code",
   "execution_count": 101,
   "metadata": {},
   "outputs": [
    {
     "name": "stdout",
     "output_type": "stream",
     "text": [
      "Getting attributions\n"
     ]
    },
    {
     "name": "stderr",
     "output_type": "stream",
     "text": [
      "/home/fgsasse_lrs_2/miniconda3/envs/lab-rotation/lib/python3.9/site-packages/grelu/interpret/score.py:172: UserWarning: hypothetical = True will be ignored as method is not deepshap.\n",
      "/home/fgsasse_lrs_2/miniconda3/envs/lab-rotation/lib/python3.9/site-packages/captum/_utils/gradient.py:57: UserWarning: Input Tensor 0 did not already require gradients, required_grads has been set automatically.\n"
     ]
    },
    {
     "name": "stdout",
     "output_type": "stream",
     "text": [
      "Running modisco\n"
     ]
    },
    {
     "ename": "ValueError",
     "evalue": "Found array with 0 sample(s) (shape=(0,)) while a minimum of 1 is required.",
     "output_type": "error",
     "traceback": [
      "\u001b[0;31m---------------------------------------------------------------------------\u001b[0m",
      "\u001b[0;31mValueError\u001b[0m                                Traceback (most recent call last)",
      "File \u001b[0;32m<timed exec>:2\u001b[0m\n",
      "File \u001b[0;32m~/miniconda3/envs/lab-rotation/lib/python3.9/site-packages/grelu/interpret/modisco.py:234\u001b[0m, in \u001b[0;36mrun_modisco\u001b[0;34m(model, seqs, genome, prediction_transform, window, meme_file, out_dir, devices, num_workers, batch_size, n_shuffles, seed, method, correct_grad, **kwargs)\u001b[0m\n\u001b[1;32m    232\u001b[0m one_hot_arr \u001b[38;5;241m=\u001b[39m one_hot_arr\u001b[38;5;241m.\u001b[39mtranspose(\u001b[38;5;241m0\u001b[39m, \u001b[38;5;241m2\u001b[39m, \u001b[38;5;241m1\u001b[39m)\u001b[38;5;241m.\u001b[39mastype(\u001b[38;5;124m\"\u001b[39m\u001b[38;5;124mfloat32\u001b[39m\u001b[38;5;124m\"\u001b[39m)\n\u001b[1;32m    233\u001b[0m attrs \u001b[38;5;241m=\u001b[39m attrs\u001b[38;5;241m.\u001b[39mtranspose(\u001b[38;5;241m0\u001b[39m, \u001b[38;5;241m2\u001b[39m, \u001b[38;5;241m1\u001b[39m)\u001b[38;5;241m.\u001b[39mastype(\u001b[38;5;124m\"\u001b[39m\u001b[38;5;124mfloat32\u001b[39m\u001b[38;5;124m\"\u001b[39m)\n\u001b[0;32m--> 234\u001b[0m pos_patterns, neg_patterns \u001b[38;5;241m=\u001b[39m \u001b[43mTFMoDISco\u001b[49m\u001b[43m(\u001b[49m\n\u001b[1;32m    235\u001b[0m \u001b[43m    \u001b[49m\u001b[43mhypothetical_contribs\u001b[49m\u001b[38;5;241;43m=\u001b[39;49m\u001b[43mattrs\u001b[49m\u001b[43m,\u001b[49m\n\u001b[1;32m    236\u001b[0m \u001b[43m    \u001b[49m\u001b[43mone_hot\u001b[49m\u001b[38;5;241;43m=\u001b[39;49m\u001b[43mone_hot_arr\u001b[49m\u001b[43m,\u001b[49m\n\u001b[1;32m    237\u001b[0m \u001b[43m    \u001b[49m\u001b[38;5;241;43m*\u001b[39;49m\u001b[38;5;241;43m*\u001b[39;49m\u001b[43mkwargs\u001b[49m\u001b[43m,\u001b[49m\n\u001b[1;32m    238\u001b[0m \u001b[43m\u001b[49m\u001b[43m)\u001b[49m\n\u001b[1;32m    240\u001b[0m \u001b[38;5;28mprint\u001b[39m(\u001b[38;5;124m\"\u001b[39m\u001b[38;5;124mWriting modisco output\u001b[39m\u001b[38;5;124m\"\u001b[39m)\n\u001b[1;32m    241\u001b[0m \u001b[38;5;28;01mif\u001b[39;00m \u001b[38;5;129;01mnot\u001b[39;00m os\u001b[38;5;241m.\u001b[39mpath\u001b[38;5;241m.\u001b[39mexists(out_dir):\n",
      "File \u001b[0;32m~/miniconda3/envs/lab-rotation/lib/python3.9/site-packages/modiscolite/tfmodisco.py:288\u001b[0m, in \u001b[0;36mTFMoDISco\u001b[0;34m(one_hot, hypothetical_contribs, sliding_window_size, flank_size, min_metacluster_size, weak_threshold_for_counting_sign, max_seqlets_per_metacluster, target_seqlet_fdr, min_passing_windows_frac, max_passing_windows_frac, n_leiden_runs, n_leiden_iterations, min_overlap_while_sliding, nearest_neighbors_to_compute, affmat_correlation_threshold, tsne_perplexity, frac_support_to_trim_to, min_num_to_trim_to, trim_to_window_size, initial_flank_to_add, final_flank_to_add, prob_and_pertrack_sim_merge_thresholds, prob_and_pertrack_sim_dealbreaker_thresholds, subcluster_perplexity, merging_max_seqlets_subsample, final_min_cluster_size, min_ic_in_window, min_ic_windowsize, ppm_pseudocount, verbose)\u001b[0m\n\u001b[1;32m    282\u001b[0m contrib_scores \u001b[38;5;241m=\u001b[39m np\u001b[38;5;241m.\u001b[39mmultiply(one_hot, hypothetical_contribs)\n\u001b[1;32m    284\u001b[0m track_set \u001b[38;5;241m=\u001b[39m core\u001b[38;5;241m.\u001b[39mTrackSet(one_hot\u001b[38;5;241m=\u001b[39mone_hot, \n\u001b[1;32m    285\u001b[0m \tcontrib_scores\u001b[38;5;241m=\u001b[39mcontrib_scores,\n\u001b[1;32m    286\u001b[0m \thypothetical_contribs\u001b[38;5;241m=\u001b[39mhypothetical_contribs)\n\u001b[0;32m--> 288\u001b[0m seqlet_coords, threshold \u001b[38;5;241m=\u001b[39m \u001b[43mextract_seqlets\u001b[49m\u001b[38;5;241;43m.\u001b[39;49m\u001b[43mextract_seqlets\u001b[49m\u001b[43m(\u001b[49m\n\u001b[1;32m    289\u001b[0m \u001b[43m\t\u001b[49m\u001b[43mattribution_scores\u001b[49m\u001b[38;5;241;43m=\u001b[39;49m\u001b[43mcontrib_scores\u001b[49m\u001b[38;5;241;43m.\u001b[39;49m\u001b[43msum\u001b[49m\u001b[43m(\u001b[49m\u001b[43maxis\u001b[49m\u001b[38;5;241;43m=\u001b[39;49m\u001b[38;5;241;43m2\u001b[39;49m\u001b[43m)\u001b[49m\u001b[43m,\u001b[49m\n\u001b[1;32m    290\u001b[0m \u001b[43m\t\u001b[49m\u001b[43mwindow_size\u001b[49m\u001b[38;5;241;43m=\u001b[39;49m\u001b[43msliding_window_size\u001b[49m\u001b[43m,\u001b[49m\n\u001b[1;32m    291\u001b[0m \u001b[43m\t\u001b[49m\u001b[43mflank\u001b[49m\u001b[38;5;241;43m=\u001b[39;49m\u001b[43mflank_size\u001b[49m\u001b[43m,\u001b[49m\n\u001b[1;32m    292\u001b[0m \u001b[43m\t\u001b[49m\u001b[43msuppress\u001b[49m\u001b[38;5;241;43m=\u001b[39;49m\u001b[43m(\u001b[49m\u001b[38;5;28;43mint\u001b[39;49m\u001b[43m(\u001b[49m\u001b[38;5;241;43m0.5\u001b[39;49m\u001b[38;5;241;43m*\u001b[39;49m\u001b[43msliding_window_size\u001b[49m\u001b[43m)\u001b[49m\u001b[43m \u001b[49m\u001b[38;5;241;43m+\u001b[39;49m\u001b[43m \u001b[49m\u001b[43mflank_size\u001b[49m\u001b[43m)\u001b[49m\u001b[43m,\u001b[49m\n\u001b[1;32m    293\u001b[0m \u001b[43m\t\u001b[49m\u001b[43mtarget_fdr\u001b[49m\u001b[38;5;241;43m=\u001b[39;49m\u001b[43mtarget_seqlet_fdr\u001b[49m\u001b[43m,\u001b[49m\n\u001b[1;32m    294\u001b[0m \u001b[43m\t\u001b[49m\u001b[43mmin_passing_windows_frac\u001b[49m\u001b[38;5;241;43m=\u001b[39;49m\u001b[43mmin_passing_windows_frac\u001b[49m\u001b[43m,\u001b[49m\n\u001b[1;32m    295\u001b[0m \u001b[43m\t\u001b[49m\u001b[43mmax_passing_windows_frac\u001b[49m\u001b[38;5;241;43m=\u001b[39;49m\u001b[43mmax_passing_windows_frac\u001b[49m\u001b[43m,\u001b[49m\n\u001b[1;32m    296\u001b[0m \u001b[43m\t\u001b[49m\u001b[43mweak_threshold_for_counting_sign\u001b[49m\u001b[38;5;241;43m=\u001b[39;49m\u001b[43mweak_threshold_for_counting_sign\u001b[49m\u001b[43m)\u001b[49m \n\u001b[1;32m    298\u001b[0m seqlets \u001b[38;5;241m=\u001b[39m track_set\u001b[38;5;241m.\u001b[39mcreate_seqlets(seqlet_coords) \n\u001b[1;32m    300\u001b[0m pos_seqlets, neg_seqlets \u001b[38;5;241m=\u001b[39m [], []\n",
      "File \u001b[0;32m~/miniconda3/envs/lab-rotation/lib/python3.9/site-packages/modiscolite/extract_seqlets.py:163\u001b[0m, in \u001b[0;36mextract_seqlets\u001b[0;34m(attribution_scores, window_size, flank, suppress, target_fdr, min_passing_windows_frac, max_passing_windows_frac, weak_threshold_for_counting_sign)\u001b[0m\n\u001b[1;32m    158\u001b[0m pos_null_values, neg_null_values \u001b[38;5;241m=\u001b[39m _laplacian_null(track\u001b[38;5;241m=\u001b[39msmoothed_tracks, \n\u001b[1;32m    159\u001b[0m \twindow_size\u001b[38;5;241m=\u001b[39mwindow_size, num_to_samp\u001b[38;5;241m=\u001b[39m\u001b[38;5;241m10000\u001b[39m)\n\u001b[1;32m    161\u001b[0m pos_threshold \u001b[38;5;241m=\u001b[39m _isotonic_thresholds(pos_values, pos_null_values, \n\u001b[1;32m    162\u001b[0m \tincreasing\u001b[38;5;241m=\u001b[39m\u001b[38;5;28;01mTrue\u001b[39;00m, target_fdr\u001b[38;5;241m=\u001b[39mtarget_fdr)\n\u001b[0;32m--> 163\u001b[0m neg_threshold \u001b[38;5;241m=\u001b[39m \u001b[43m_isotonic_thresholds\u001b[49m\u001b[43m(\u001b[49m\u001b[43mneg_values\u001b[49m\u001b[43m,\u001b[49m\u001b[43m \u001b[49m\u001b[43mneg_null_values\u001b[49m\u001b[43m,\u001b[49m\n\u001b[1;32m    164\u001b[0m \u001b[43m\t\u001b[49m\u001b[43mincreasing\u001b[49m\u001b[38;5;241;43m=\u001b[39;49m\u001b[38;5;28;43;01mFalse\u001b[39;49;00m\u001b[43m,\u001b[49m\u001b[43m \u001b[49m\u001b[43mtarget_fdr\u001b[49m\u001b[38;5;241;43m=\u001b[39;49m\u001b[43mtarget_fdr\u001b[49m\u001b[43m)\u001b[49m\n\u001b[1;32m    166\u001b[0m pos_threshold, neg_threshold \u001b[38;5;241m=\u001b[39m _refine_thresholds(\n\u001b[1;32m    167\u001b[0m \t  vals\u001b[38;5;241m=\u001b[39mnp\u001b[38;5;241m.\u001b[39mconcatenate([pos_values, neg_values], axis\u001b[38;5;241m=\u001b[39m\u001b[38;5;241m0\u001b[39m),\n\u001b[1;32m    168\u001b[0m \t  pos_threshold\u001b[38;5;241m=\u001b[39mpos_threshold,\n\u001b[1;32m    169\u001b[0m \t  neg_threshold\u001b[38;5;241m=\u001b[39mneg_threshold,\n\u001b[1;32m    170\u001b[0m \t  min_passing_windows_frac\u001b[38;5;241m=\u001b[39mmin_passing_windows_frac,\n\u001b[1;32m    171\u001b[0m \t  max_passing_windows_frac\u001b[38;5;241m=\u001b[39mmax_passing_windows_frac) \n\u001b[1;32m    173\u001b[0m distribution \u001b[38;5;241m=\u001b[39m np\u001b[38;5;241m.\u001b[39marray(\u001b[38;5;28msorted\u001b[39m(np\u001b[38;5;241m.\u001b[39mabs(np\u001b[38;5;241m.\u001b[39mconcatenate(smoothed_tracks,\n\u001b[1;32m    174\u001b[0m \taxis\u001b[38;5;241m=\u001b[39m\u001b[38;5;241m0\u001b[39m))))\n",
      "File \u001b[0;32m~/miniconda3/envs/lab-rotation/lib/python3.9/site-packages/modiscolite/extract_seqlets.py:117\u001b[0m, in \u001b[0;36m_isotonic_thresholds\u001b[0;34m(values, null_values, increasing, target_fdr, min_frac_neg)\u001b[0m\n\u001b[1;32m    114\u001b[0m sample_weight \u001b[38;5;241m=\u001b[39m np\u001b[38;5;241m.\u001b[39mconcatenate([np\u001b[38;5;241m.\u001b[39mones(n1), np\u001b[38;5;241m.\u001b[39mones(n2)\u001b[38;5;241m*\u001b[39mw], axis\u001b[38;5;241m=\u001b[39m\u001b[38;5;241m0\u001b[39m)\n\u001b[1;32m    116\u001b[0m model \u001b[38;5;241m=\u001b[39m IsotonicRegression(out_of_bounds\u001b[38;5;241m=\u001b[39m\u001b[38;5;124m'\u001b[39m\u001b[38;5;124mclip\u001b[39m\u001b[38;5;124m'\u001b[39m, increasing\u001b[38;5;241m=\u001b[39mincreasing)\n\u001b[0;32m--> 117\u001b[0m \u001b[43mmodel\u001b[49m\u001b[38;5;241;43m.\u001b[39;49m\u001b[43mfit\u001b[49m\u001b[43m(\u001b[49m\u001b[43mX\u001b[49m\u001b[43m,\u001b[49m\u001b[43m \u001b[49m\u001b[43my\u001b[49m\u001b[43m,\u001b[49m\u001b[43m \u001b[49m\u001b[43msample_weight\u001b[49m\u001b[38;5;241;43m=\u001b[39;49m\u001b[43msample_weight\u001b[49m\u001b[43m)\u001b[49m\n\u001b[1;32m    119\u001b[0m min_prec_x \u001b[38;5;241m=\u001b[39m model\u001b[38;5;241m.\u001b[39mX_min_ \u001b[38;5;28;01mif\u001b[39;00m increasing \u001b[38;5;28;01melse\u001b[39;00m model\u001b[38;5;241m.\u001b[39mX_max_\n\u001b[1;32m    120\u001b[0m min_precision \u001b[38;5;241m=\u001b[39m model\u001b[38;5;241m.\u001b[39mtransform([min_prec_x])[\u001b[38;5;241m0\u001b[39m]\n",
      "File \u001b[0;32m~/miniconda3/envs/lab-rotation/lib/python3.9/site-packages/sklearn/base.py:1389\u001b[0m, in \u001b[0;36m_fit_context.<locals>.decorator.<locals>.wrapper\u001b[0;34m(estimator, *args, **kwargs)\u001b[0m\n\u001b[1;32m   1382\u001b[0m     estimator\u001b[38;5;241m.\u001b[39m_validate_params()\n\u001b[1;32m   1384\u001b[0m \u001b[38;5;28;01mwith\u001b[39;00m config_context(\n\u001b[1;32m   1385\u001b[0m     skip_parameter_validation\u001b[38;5;241m=\u001b[39m(\n\u001b[1;32m   1386\u001b[0m         prefer_skip_nested_validation \u001b[38;5;129;01mor\u001b[39;00m global_skip_validation\n\u001b[1;32m   1387\u001b[0m     )\n\u001b[1;32m   1388\u001b[0m ):\n\u001b[0;32m-> 1389\u001b[0m     \u001b[38;5;28;01mreturn\u001b[39;00m \u001b[43mfit_method\u001b[49m\u001b[43m(\u001b[49m\u001b[43mestimator\u001b[49m\u001b[43m,\u001b[49m\u001b[43m \u001b[49m\u001b[38;5;241;43m*\u001b[39;49m\u001b[43margs\u001b[49m\u001b[43m,\u001b[49m\u001b[43m \u001b[49m\u001b[38;5;241;43m*\u001b[39;49m\u001b[38;5;241;43m*\u001b[39;49m\u001b[43mkwargs\u001b[49m\u001b[43m)\u001b[49m\n",
      "File \u001b[0;32m~/miniconda3/envs/lab-rotation/lib/python3.9/site-packages/sklearn/isotonic.py:401\u001b[0m, in \u001b[0;36mIsotonicRegression.fit\u001b[0;34m(self, X, y, sample_weight)\u001b[0m\n\u001b[1;32m    397\u001b[0m check_consistent_length(X, y, sample_weight)\n\u001b[1;32m    399\u001b[0m \u001b[38;5;66;03m# Transform y by running the isotonic regression algorithm and\u001b[39;00m\n\u001b[1;32m    400\u001b[0m \u001b[38;5;66;03m# transform X accordingly.\u001b[39;00m\n\u001b[0;32m--> 401\u001b[0m X, y \u001b[38;5;241m=\u001b[39m \u001b[38;5;28;43mself\u001b[39;49m\u001b[38;5;241;43m.\u001b[39;49m\u001b[43m_build_y\u001b[49m\u001b[43m(\u001b[49m\u001b[43mX\u001b[49m\u001b[43m,\u001b[49m\u001b[43m \u001b[49m\u001b[43my\u001b[49m\u001b[43m,\u001b[49m\u001b[43m \u001b[49m\u001b[43msample_weight\u001b[49m\u001b[43m)\u001b[49m\n\u001b[1;32m    403\u001b[0m \u001b[38;5;66;03m# It is necessary to store the non-redundant part of the training set\u001b[39;00m\n\u001b[1;32m    404\u001b[0m \u001b[38;5;66;03m# on the model to make it possible to support model persistence via\u001b[39;00m\n\u001b[1;32m    405\u001b[0m \u001b[38;5;66;03m# the pickle module as the object built by scipy.interp1d is not\u001b[39;00m\n\u001b[1;32m    406\u001b[0m \u001b[38;5;66;03m# picklable directly.\u001b[39;00m\n\u001b[1;32m    407\u001b[0m \u001b[38;5;28mself\u001b[39m\u001b[38;5;241m.\u001b[39mX_thresholds_, \u001b[38;5;28mself\u001b[39m\u001b[38;5;241m.\u001b[39my_thresholds_ \u001b[38;5;241m=\u001b[39m X, y\n",
      "File \u001b[0;32m~/miniconda3/envs/lab-rotation/lib/python3.9/site-packages/sklearn/isotonic.py:336\u001b[0m, in \u001b[0;36mIsotonicRegression._build_y\u001b[0;34m(self, X, y, sample_weight, trim_duplicates)\u001b[0m\n\u001b[1;32m    333\u001b[0m unique_X, unique_y, unique_sample_weight \u001b[38;5;241m=\u001b[39m _make_unique(X, y, sample_weight)\n\u001b[1;32m    335\u001b[0m X \u001b[38;5;241m=\u001b[39m unique_X\n\u001b[0;32m--> 336\u001b[0m y \u001b[38;5;241m=\u001b[39m \u001b[43misotonic_regression\u001b[49m\u001b[43m(\u001b[49m\n\u001b[1;32m    337\u001b[0m \u001b[43m    \u001b[49m\u001b[43munique_y\u001b[49m\u001b[43m,\u001b[49m\n\u001b[1;32m    338\u001b[0m \u001b[43m    \u001b[49m\u001b[43msample_weight\u001b[49m\u001b[38;5;241;43m=\u001b[39;49m\u001b[43munique_sample_weight\u001b[49m\u001b[43m,\u001b[49m\n\u001b[1;32m    339\u001b[0m \u001b[43m    \u001b[49m\u001b[43my_min\u001b[49m\u001b[38;5;241;43m=\u001b[39;49m\u001b[38;5;28;43mself\u001b[39;49m\u001b[38;5;241;43m.\u001b[39;49m\u001b[43my_min\u001b[49m\u001b[43m,\u001b[49m\n\u001b[1;32m    340\u001b[0m \u001b[43m    \u001b[49m\u001b[43my_max\u001b[49m\u001b[38;5;241;43m=\u001b[39;49m\u001b[38;5;28;43mself\u001b[39;49m\u001b[38;5;241;43m.\u001b[39;49m\u001b[43my_max\u001b[49m\u001b[43m,\u001b[49m\n\u001b[1;32m    341\u001b[0m \u001b[43m    \u001b[49m\u001b[43mincreasing\u001b[49m\u001b[38;5;241;43m=\u001b[39;49m\u001b[38;5;28;43mself\u001b[39;49m\u001b[38;5;241;43m.\u001b[39;49m\u001b[43mincreasing_\u001b[49m\u001b[43m,\u001b[49m\n\u001b[1;32m    342\u001b[0m \u001b[43m\u001b[49m\u001b[43m)\u001b[49m\n\u001b[1;32m    344\u001b[0m \u001b[38;5;66;03m# Handle the left and right bounds on X\u001b[39;00m\n\u001b[1;32m    345\u001b[0m \u001b[38;5;28mself\u001b[39m\u001b[38;5;241m.\u001b[39mX_min_, \u001b[38;5;28mself\u001b[39m\u001b[38;5;241m.\u001b[39mX_max_ \u001b[38;5;241m=\u001b[39m np\u001b[38;5;241m.\u001b[39mmin(X), np\u001b[38;5;241m.\u001b[39mmax(X)\n",
      "File \u001b[0;32m~/miniconda3/envs/lab-rotation/lib/python3.9/site-packages/sklearn/utils/_param_validation.py:189\u001b[0m, in \u001b[0;36mvalidate_params.<locals>.decorator.<locals>.wrapper\u001b[0;34m(*args, **kwargs)\u001b[0m\n\u001b[1;32m    187\u001b[0m global_skip_validation \u001b[38;5;241m=\u001b[39m get_config()[\u001b[38;5;124m\"\u001b[39m\u001b[38;5;124mskip_parameter_validation\u001b[39m\u001b[38;5;124m\"\u001b[39m]\n\u001b[1;32m    188\u001b[0m \u001b[38;5;28;01mif\u001b[39;00m global_skip_validation:\n\u001b[0;32m--> 189\u001b[0m     \u001b[38;5;28;01mreturn\u001b[39;00m \u001b[43mfunc\u001b[49m\u001b[43m(\u001b[49m\u001b[38;5;241;43m*\u001b[39;49m\u001b[43margs\u001b[49m\u001b[43m,\u001b[49m\u001b[43m \u001b[49m\u001b[38;5;241;43m*\u001b[39;49m\u001b[38;5;241;43m*\u001b[39;49m\u001b[43mkwargs\u001b[49m\u001b[43m)\u001b[49m\n\u001b[1;32m    191\u001b[0m func_sig \u001b[38;5;241m=\u001b[39m signature(func)\n\u001b[1;32m    193\u001b[0m \u001b[38;5;66;03m# Map *args/**kwargs to the function signature\u001b[39;00m\n",
      "File \u001b[0;32m~/miniconda3/envs/lab-rotation/lib/python3.9/site-packages/sklearn/isotonic.py:157\u001b[0m, in \u001b[0;36misotonic_regression\u001b[0;34m(y, sample_weight, y_min, y_max, increasing)\u001b[0m\n\u001b[1;32m    102\u001b[0m \u001b[38;5;129m@validate_params\u001b[39m(\n\u001b[1;32m    103\u001b[0m     {\n\u001b[1;32m    104\u001b[0m         \u001b[38;5;124m\"\u001b[39m\u001b[38;5;124my\u001b[39m\u001b[38;5;124m\"\u001b[39m: [\u001b[38;5;124m\"\u001b[39m\u001b[38;5;124marray-like\u001b[39m\u001b[38;5;124m\"\u001b[39m],\n\u001b[0;32m   (...)\u001b[0m\n\u001b[1;32m    113\u001b[0m     y, \u001b[38;5;241m*\u001b[39m, sample_weight\u001b[38;5;241m=\u001b[39m\u001b[38;5;28;01mNone\u001b[39;00m, y_min\u001b[38;5;241m=\u001b[39m\u001b[38;5;28;01mNone\u001b[39;00m, y_max\u001b[38;5;241m=\u001b[39m\u001b[38;5;28;01mNone\u001b[39;00m, increasing\u001b[38;5;241m=\u001b[39m\u001b[38;5;28;01mTrue\u001b[39;00m\n\u001b[1;32m    114\u001b[0m ):\n\u001b[1;32m    115\u001b[0m \u001b[38;5;250m    \u001b[39m\u001b[38;5;124;03m\"\"\"Solve the isotonic regression model.\u001b[39;00m\n\u001b[1;32m    116\u001b[0m \n\u001b[1;32m    117\u001b[0m \u001b[38;5;124;03m    Read more in the :ref:`User Guide <isotonic>`.\u001b[39;00m\n\u001b[0;32m   (...)\u001b[0m\n\u001b[1;32m    155\u001b[0m \u001b[38;5;124;03m           7.33..., 7.33..., 7.33..., 7.33..., 7.33...])\u001b[39;00m\n\u001b[1;32m    156\u001b[0m \u001b[38;5;124;03m    \"\"\"\u001b[39;00m\n\u001b[0;32m--> 157\u001b[0m     y \u001b[38;5;241m=\u001b[39m \u001b[43mcheck_array\u001b[49m\u001b[43m(\u001b[49m\u001b[43my\u001b[49m\u001b[43m,\u001b[49m\u001b[43m \u001b[49m\u001b[43mensure_2d\u001b[49m\u001b[38;5;241;43m=\u001b[39;49m\u001b[38;5;28;43;01mFalse\u001b[39;49;00m\u001b[43m,\u001b[49m\u001b[43m \u001b[49m\u001b[43minput_name\u001b[49m\u001b[38;5;241;43m=\u001b[39;49m\u001b[38;5;124;43m\"\u001b[39;49m\u001b[38;5;124;43my\u001b[39;49m\u001b[38;5;124;43m\"\u001b[39;49m\u001b[43m,\u001b[49m\u001b[43m \u001b[49m\u001b[43mdtype\u001b[49m\u001b[38;5;241;43m=\u001b[39;49m\u001b[43m[\u001b[49m\u001b[43mnp\u001b[49m\u001b[38;5;241;43m.\u001b[39;49m\u001b[43mfloat64\u001b[49m\u001b[43m,\u001b[49m\u001b[43m \u001b[49m\u001b[43mnp\u001b[49m\u001b[38;5;241;43m.\u001b[39;49m\u001b[43mfloat32\u001b[49m\u001b[43m]\u001b[49m\u001b[43m)\u001b[49m\n\u001b[1;32m    158\u001b[0m     \u001b[38;5;28;01mif\u001b[39;00m sp_base_version \u001b[38;5;241m>\u001b[39m\u001b[38;5;241m=\u001b[39m parse_version(\u001b[38;5;124m\"\u001b[39m\u001b[38;5;124m1.12.0\u001b[39m\u001b[38;5;124m\"\u001b[39m):\n\u001b[1;32m    159\u001b[0m         res \u001b[38;5;241m=\u001b[39m optimize\u001b[38;5;241m.\u001b[39misotonic_regression(\n\u001b[1;32m    160\u001b[0m             y\u001b[38;5;241m=\u001b[39my, weights\u001b[38;5;241m=\u001b[39msample_weight, increasing\u001b[38;5;241m=\u001b[39mincreasing\n\u001b[1;32m    161\u001b[0m         )\n",
      "File \u001b[0;32m~/miniconda3/envs/lab-rotation/lib/python3.9/site-packages/sklearn/utils/validation.py:1130\u001b[0m, in \u001b[0;36mcheck_array\u001b[0;34m(array, accept_sparse, accept_large_sparse, dtype, order, copy, force_writeable, force_all_finite, ensure_all_finite, ensure_non_negative, ensure_2d, allow_nd, ensure_min_samples, ensure_min_features, estimator, input_name)\u001b[0m\n\u001b[1;32m   1128\u001b[0m     n_samples \u001b[38;5;241m=\u001b[39m _num_samples(array)\n\u001b[1;32m   1129\u001b[0m     \u001b[38;5;28;01mif\u001b[39;00m n_samples \u001b[38;5;241m<\u001b[39m ensure_min_samples:\n\u001b[0;32m-> 1130\u001b[0m         \u001b[38;5;28;01mraise\u001b[39;00m \u001b[38;5;167;01mValueError\u001b[39;00m(\n\u001b[1;32m   1131\u001b[0m             \u001b[38;5;124m\"\u001b[39m\u001b[38;5;124mFound array with \u001b[39m\u001b[38;5;132;01m%d\u001b[39;00m\u001b[38;5;124m sample(s) (shape=\u001b[39m\u001b[38;5;132;01m%s\u001b[39;00m\u001b[38;5;124m) while a\u001b[39m\u001b[38;5;124m\"\u001b[39m\n\u001b[1;32m   1132\u001b[0m             \u001b[38;5;124m\"\u001b[39m\u001b[38;5;124m minimum of \u001b[39m\u001b[38;5;132;01m%d\u001b[39;00m\u001b[38;5;124m is required\u001b[39m\u001b[38;5;132;01m%s\u001b[39;00m\u001b[38;5;124m.\u001b[39m\u001b[38;5;124m\"\u001b[39m\n\u001b[1;32m   1133\u001b[0m             \u001b[38;5;241m%\u001b[39m (n_samples, array\u001b[38;5;241m.\u001b[39mshape, ensure_min_samples, context)\n\u001b[1;32m   1134\u001b[0m         )\n\u001b[1;32m   1136\u001b[0m \u001b[38;5;28;01mif\u001b[39;00m ensure_min_features \u001b[38;5;241m>\u001b[39m \u001b[38;5;241m0\u001b[39m \u001b[38;5;129;01mand\u001b[39;00m array\u001b[38;5;241m.\u001b[39mndim \u001b[38;5;241m==\u001b[39m \u001b[38;5;241m2\u001b[39m:\n\u001b[1;32m   1137\u001b[0m     n_features \u001b[38;5;241m=\u001b[39m array\u001b[38;5;241m.\u001b[39mshape[\u001b[38;5;241m1\u001b[39m]\n",
      "\u001b[0;31mValueError\u001b[0m: Found array with 0 sample(s) (shape=(0,)) while a minimum of 1 is required."
     ]
    }
   ],
   "source": [
    "%%time\n",
    "import grelu.interpret.modisco\n",
    "grelu.interpret.modisco.run_modisco(\n",
    "    model,\n",
    "    seqs=ad_test.var, \n",
    "    genome=genome,\n",
    "    prediction_transform=cns_peaks, # Base importance scores will be calculated with respect to this output\n",
    "    meme_file=\"../data/danRer11.meme\", # We will compare the Modisco CWMs to motifs\n",
    "    method=\"saliency\", # Base-level attribution scores will be calculated using ISM. You can also use \"saliency\".\n",
    "    out_dir=experiment,\n",
    "    batch_size=256,\n",
    "    devices=0,\n",
    "    num_workers=8,\n",
    "    window=100, # ISM scores will be calculated over the central 100 bp of each peak\n",
    "    seed=0,\n",
    ")"
   ]
  },
  {
   "cell_type": "code",
   "execution_count": 103,
   "metadata": {},
   "outputs": [
    {
     "data": {
      "text/plain": [
       "Aggregate()"
      ]
     },
     "execution_count": 103,
     "metadata": {},
     "output_type": "execute_result"
    }
   ],
   "source": [
    "cns_peaks"
   ]
  },
  {
   "cell_type": "code",
   "execution_count": null,
   "metadata": {},
   "outputs": [],
   "source": []
  }
 ],
 "metadata": {
  "kernelspec": {
   "display_name": "lab-rotation",
   "language": "python",
   "name": "python3"
  },
  "language_info": {
   "codemirror_mode": {
    "name": "ipython",
    "version": 3
   },
   "file_extension": ".py",
   "mimetype": "text/x-python",
   "name": "python",
   "nbconvert_exporter": "python",
   "pygments_lexer": "ipython3",
   "version": "3.9.21"
  }
 },
 "nbformat": 4,
 "nbformat_minor": 2
}
