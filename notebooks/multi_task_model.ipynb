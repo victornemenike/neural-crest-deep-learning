{
 "cells": [
  {
   "cell_type": "markdown",
   "metadata": {},
   "source": [
    "# Training a multi-task regression model for neural crest cells"
   ]
  },
  {
   "cell_type": "code",
   "execution_count": 2,
   "metadata": {},
   "outputs": [],
   "source": [
    "import os\n",
    "import numpy as np\n",
    "import pandas as pd\n",
    "import matplotlib.pyplot as plt\n",
    "import anndata"
   ]
  },
  {
   "cell_type": "markdown",
   "metadata": {},
   "source": [
    "## Set experiment parameters"
   ]
  },
  {
   "cell_type": "code",
   "execution_count": 3,
   "metadata": {},
   "outputs": [],
   "source": [
    "experiment = 'multi_task_1'\n",
    "if not os.path.exists(experiment):\n",
    "    os.makedirs(experiment)\n",
    "    \n",
    "genome = 'danRer11' #\"GRCz11\"\n",
    "seq_len = 200 # Length of the input sequence"
   ]
  },
  {
   "cell_type": "markdown",
   "metadata": {},
   "source": [
    "## Load Data"
   ]
  },
  {
   "cell_type": "code",
   "execution_count": 4,
   "metadata": {},
   "outputs": [
    {
     "data": {
      "text/plain": [
       "(15, 370058)"
      ]
     },
     "execution_count": 4,
     "metadata": {},
     "output_type": "execute_result"
    }
   ],
   "source": [
    "peaks = pd.read_csv(\"../data/normalized_peaks.csv\")\n",
    "\n",
    "ad = peaks.to_numpy()\n",
    "ad = anndata.AnnData(ad).T\n",
    "\n",
    "# Prepare ad.obs\n",
    "cell_types = pd.DataFrame({'cell type': peaks.columns})\n",
    "ad.obs = cell_types\n",
    "ad.obs_names = ad.obs['cell type']\n",
    "\n",
    "# Prepare ad.var\n",
    "var = pd.read_csv(\"../data/chromosomes.10hpf.bed\", sep = '\\t', header = None)\n",
    "var.columns = ['chrom', 'start', 'end', 'name', 'score', 'strand']\n",
    "var = var.drop(columns =['name', 'score', 'strand'])\n",
    "var.index = var.index.astype(str)\n",
    "ad.var = var\n",
    "\n",
    "ad.shape"
   ]
  },
  {
   "cell_type": "code",
   "execution_count": 5,
   "metadata": {},
   "outputs": [
    {
     "data": {
      "text/html": [
       "<div>\n",
       "<style scoped>\n",
       "    .dataframe tbody tr th:only-of-type {\n",
       "        vertical-align: middle;\n",
       "    }\n",
       "\n",
       "    .dataframe tbody tr th {\n",
       "        vertical-align: top;\n",
       "    }\n",
       "\n",
       "    .dataframe thead th {\n",
       "        text-align: right;\n",
       "    }\n",
       "</style>\n",
       "<table border=\"1\" class=\"dataframe\">\n",
       "  <thead>\n",
       "    <tr style=\"text-align: right;\">\n",
       "      <th></th>\n",
       "      <th>cell type</th>\n",
       "    </tr>\n",
       "    <tr>\n",
       "      <th>cell type</th>\n",
       "      <th></th>\n",
       "    </tr>\n",
       "  </thead>\n",
       "  <tbody>\n",
       "    <tr>\n",
       "      <th>anterior/posterior axis</th>\n",
       "      <td>anterior/posterior axis</td>\n",
       "    </tr>\n",
       "    <tr>\n",
       "      <th>central nervous system</th>\n",
       "      <td>central nervous system</td>\n",
       "    </tr>\n",
       "    <tr>\n",
       "      <th>forebrain</th>\n",
       "      <td>forebrain</td>\n",
       "    </tr>\n",
       "    <tr>\n",
       "      <th>immature eye</th>\n",
       "      <td>immature eye</td>\n",
       "    </tr>\n",
       "    <tr>\n",
       "      <th>integument</th>\n",
       "      <td>integument</td>\n",
       "    </tr>\n",
       "    <tr>\n",
       "      <th>lateral plate mesoderm</th>\n",
       "      <td>lateral plate mesoderm</td>\n",
       "    </tr>\n",
       "    <tr>\n",
       "      <th>mesenchyme cell</th>\n",
       "      <td>mesenchyme cell</td>\n",
       "    </tr>\n",
       "    <tr>\n",
       "      <th>musculature system</th>\n",
       "      <td>musculature system</td>\n",
       "    </tr>\n",
       "    <tr>\n",
       "      <th>neural crest</th>\n",
       "      <td>neural crest</td>\n",
       "    </tr>\n",
       "    <tr>\n",
       "      <th>neural keel</th>\n",
       "      <td>neural keel</td>\n",
       "    </tr>\n",
       "    <tr>\n",
       "      <th>neural stem cell</th>\n",
       "      <td>neural stem cell</td>\n",
       "    </tr>\n",
       "    <tr>\n",
       "      <th>periderm/epidermis</th>\n",
       "      <td>periderm/epidermis</td>\n",
       "    </tr>\n",
       "    <tr>\n",
       "      <th>primary neuron</th>\n",
       "      <td>primary neuron</td>\n",
       "    </tr>\n",
       "    <tr>\n",
       "      <th>segmental plate</th>\n",
       "      <td>segmental plate</td>\n",
       "    </tr>\n",
       "    <tr>\n",
       "      <th>YSL</th>\n",
       "      <td>YSL</td>\n",
       "    </tr>\n",
       "  </tbody>\n",
       "</table>\n",
       "</div>"
      ],
      "text/plain": [
       "                                       cell type\n",
       "cell type                                       \n",
       "anterior/posterior axis  anterior/posterior axis\n",
       "central nervous system    central nervous system\n",
       "forebrain                              forebrain\n",
       "immature eye                        immature eye\n",
       "integument                            integument\n",
       "lateral plate mesoderm    lateral plate mesoderm\n",
       "mesenchyme cell                  mesenchyme cell\n",
       "musculature system            musculature system\n",
       "neural crest                        neural crest\n",
       "neural keel                          neural keel\n",
       "neural stem cell                neural stem cell\n",
       "periderm/epidermis            periderm/epidermis\n",
       "primary neuron                    primary neuron\n",
       "segmental plate                  segmental plate\n",
       "YSL                                          YSL"
      ]
     },
     "execution_count": 5,
     "metadata": {},
     "output_type": "execute_result"
    }
   ],
   "source": [
    "ad.obs"
   ]
  },
  {
   "cell_type": "code",
   "execution_count": 6,
   "metadata": {},
   "outputs": [
    {
     "data": {
      "text/plain": [
       "Index(['anterior/posterior axis', 'central nervous system', 'forebrain',\n",
       "       'immature eye', 'integument', 'lateral plate mesoderm',\n",
       "       'mesenchyme cell', 'musculature system', 'neural crest', 'neural keel',\n",
       "       'neural stem cell', 'periderm/epidermis', 'primary neuron',\n",
       "       'segmental plate', 'YSL'],\n",
       "      dtype='object', name='cell type')"
      ]
     },
     "execution_count": 6,
     "metadata": {},
     "output_type": "execute_result"
    }
   ],
   "source": [
    "ad.obs_names"
   ]
  },
  {
   "cell_type": "code",
   "execution_count": 7,
   "metadata": {},
   "outputs": [
    {
     "data": {
      "text/html": [
       "<div>\n",
       "<style scoped>\n",
       "    .dataframe tbody tr th:only-of-type {\n",
       "        vertical-align: middle;\n",
       "    }\n",
       "\n",
       "    .dataframe tbody tr th {\n",
       "        vertical-align: top;\n",
       "    }\n",
       "\n",
       "    .dataframe thead th {\n",
       "        text-align: right;\n",
       "    }\n",
       "</style>\n",
       "<table border=\"1\" class=\"dataframe\">\n",
       "  <thead>\n",
       "    <tr style=\"text-align: right;\">\n",
       "      <th></th>\n",
       "      <th>chrom</th>\n",
       "      <th>start</th>\n",
       "      <th>end</th>\n",
       "    </tr>\n",
       "  </thead>\n",
       "  <tbody>\n",
       "    <tr>\n",
       "      <th>0</th>\n",
       "      <td>chr1</td>\n",
       "      <td>5231</td>\n",
       "      <td>5732</td>\n",
       "    </tr>\n",
       "    <tr>\n",
       "      <th>1</th>\n",
       "      <td>chr1</td>\n",
       "      <td>5786</td>\n",
       "      <td>6287</td>\n",
       "    </tr>\n",
       "    <tr>\n",
       "      <th>2</th>\n",
       "      <td>chr1</td>\n",
       "      <td>10087</td>\n",
       "      <td>10588</td>\n",
       "    </tr>\n",
       "    <tr>\n",
       "      <th>3</th>\n",
       "      <td>chr1</td>\n",
       "      <td>10990</td>\n",
       "      <td>11491</td>\n",
       "    </tr>\n",
       "    <tr>\n",
       "      <th>4</th>\n",
       "      <td>chr1</td>\n",
       "      <td>11894</td>\n",
       "      <td>12395</td>\n",
       "    </tr>\n",
       "  </tbody>\n",
       "</table>\n",
       "</div>"
      ],
      "text/plain": [
       "  chrom  start    end\n",
       "0  chr1   5231   5732\n",
       "1  chr1   5786   6287\n",
       "2  chr1  10087  10588\n",
       "3  chr1  10990  11491\n",
       "4  chr1  11894  12395"
      ]
     },
     "execution_count": 7,
     "metadata": {},
     "output_type": "execute_result"
    }
   ],
   "source": [
    "ad.var.head()"
   ]
  },
  {
   "cell_type": "code",
   "execution_count": 8,
   "metadata": {},
   "outputs": [
    {
     "data": {
      "text/plain": [
       "array([[4.65111754, 4.7597768 , 4.84433467, 4.91311991, 5.09123001],\n",
       "       [4.53367234, 4.71507734, 4.6939733 , 4.97038916, 5.15560569],\n",
       "       [3.74337616, 3.89092058, 3.71531718, 4.50199984, 4.58080749],\n",
       "       [4.67651185, 4.80295157, 4.32103392, 4.53860808, 4.89682671],\n",
       "       [3.88919404, 3.75913911, 3.88919404, 4.40643606, 4.7314921 ]])"
      ]
     },
     "execution_count": 8,
     "metadata": {},
     "output_type": "execute_result"
    }
   ],
   "source": [
    "ad.X[0:5,0:5]"
   ]
  },
  {
   "cell_type": "markdown",
   "metadata": {},
   "source": [
    "## Select small dataset for testing"
   ]
  },
  {
   "cell_type": "code",
   "execution_count": 9,
   "metadata": {},
   "outputs": [
    {
     "data": {
      "text/plain": [
       "(15, 50000)"
      ]
     },
     "execution_count": 9,
     "metadata": {},
     "output_type": "execute_result"
    }
   ],
   "source": [
    "ad = ad[:,:50000]\n",
    "ad.shape"
   ]
  },
  {
   "cell_type": "markdown",
   "metadata": {},
   "source": [
    "## Filter peaks"
   ]
  },
  {
   "cell_type": "markdown",
   "metadata": {},
   "source": [
    "Performing filtering of the dataset using `grelu.data.preprocess` module.\n",
    "\n",
    "First, we filter peaks within autosomes (chromosomes 1 - 22) or chromosomes X/Y."
   ]
  },
  {
   "cell_type": "code",
   "execution_count": 10,
   "metadata": {},
   "outputs": [
    {
     "name": "stdout",
     "output_type": "stream",
     "text": [
      "Keeping 50000 intervals\n"
     ]
    }
   ],
   "source": [
    "import grelu.data.preprocess\n",
    "\n",
    "ad = grelu.data.preprocess.filter_chromosomes(ad, 'autosomes')"
   ]
  },
  {
   "cell_type": "markdown",
   "metadata": {},
   "source": [
    "## Resize peaks"
   ]
  },
  {
   "cell_type": "markdown",
   "metadata": {},
   "source": [
    "ATAC-seq peaks can take different lengths. Hence, we resize all ATAC-seq peaks to a constant sequence length of 200 bp to train the model as follows:"
   ]
  },
  {
   "cell_type": "code",
   "execution_count": 11,
   "metadata": {},
   "outputs": [
    {
     "data": {
      "text/html": [
       "<div>\n",
       "<style scoped>\n",
       "    .dataframe tbody tr th:only-of-type {\n",
       "        vertical-align: middle;\n",
       "    }\n",
       "\n",
       "    .dataframe tbody tr th {\n",
       "        vertical-align: top;\n",
       "    }\n",
       "\n",
       "    .dataframe thead th {\n",
       "        text-align: right;\n",
       "    }\n",
       "</style>\n",
       "<table border=\"1\" class=\"dataframe\">\n",
       "  <thead>\n",
       "    <tr style=\"text-align: right;\">\n",
       "      <th></th>\n",
       "      <th>chrom</th>\n",
       "      <th>start</th>\n",
       "      <th>end</th>\n",
       "    </tr>\n",
       "  </thead>\n",
       "  <tbody>\n",
       "    <tr>\n",
       "      <th>0</th>\n",
       "      <td>chr1</td>\n",
       "      <td>5382</td>\n",
       "      <td>5582</td>\n",
       "    </tr>\n",
       "    <tr>\n",
       "      <th>1</th>\n",
       "      <td>chr1</td>\n",
       "      <td>5937</td>\n",
       "      <td>6137</td>\n",
       "    </tr>\n",
       "    <tr>\n",
       "      <th>2</th>\n",
       "      <td>chr1</td>\n",
       "      <td>10238</td>\n",
       "      <td>10438</td>\n",
       "    </tr>\n",
       "  </tbody>\n",
       "</table>\n",
       "</div>"
      ],
      "text/plain": [
       "  chrom  start    end\n",
       "0  chr1   5382   5582\n",
       "1  chr1   5937   6137\n",
       "2  chr1  10238  10438"
      ]
     },
     "execution_count": 11,
     "metadata": {},
     "output_type": "execute_result"
    }
   ],
   "source": [
    "import grelu.sequence.utils\n",
    "\n",
    "\n",
    "ad.var = grelu.sequence.utils.resize(ad.var, seq_len)\n",
    "ad.var.head(3)"
   ]
  },
  {
   "cell_type": "markdown",
   "metadata": {},
   "source": [
    "## Split data"
   ]
  },
  {
   "cell_type": "code",
   "execution_count": 12,
   "metadata": {},
   "outputs": [
    {
     "data": {
      "text/plain": [
       "array(['chr1', 'chr2', 'chr3', 'chr4'], dtype=object)"
      ]
     },
     "execution_count": 12,
     "metadata": {},
     "output_type": "execute_result"
    }
   ],
   "source": [
    "ad.var['chrom'].unique()"
   ]
  },
  {
   "cell_type": "code",
   "execution_count": 13,
   "metadata": {},
   "outputs": [
    {
     "name": "stdout",
     "output_type": "stream",
     "text": [
      "Selecting training samples\n",
      "Keeping 32368 intervals\n",
      "\n",
      "\n",
      "Selecting validation samples\n",
      "Keeping 17079 intervals\n",
      "\n",
      "\n",
      "Selecting test samples\n",
      "Keeping 553 intervals\n",
      "Final sizes: train: (15, 32368), val: (15, 17079), test: (15, 553)\n"
     ]
    }
   ],
   "source": [
    "train_chroms='autosomes'\n",
    "val_chroms=['chr3']\n",
    "test_chroms=['chr4']\n",
    "\n",
    "\n",
    "ad_train, ad_val, ad_test = grelu.data.preprocess.split(\n",
    "    ad, \n",
    "    train_chroms = train_chroms, val_chroms = val_chroms, \n",
    "    test_chroms = test_chroms,\n",
    ")"
   ]
  },
  {
   "cell_type": "markdown",
   "metadata": {},
   "source": [
    "## Make labeled sequence datasets"
   ]
  },
  {
   "cell_type": "code",
   "execution_count": 14,
   "metadata": {},
   "outputs": [],
   "source": [
    "import grelu.data.dataset"
   ]
  },
  {
   "cell_type": "code",
   "execution_count": 15,
   "metadata": {},
   "outputs": [],
   "source": [
    "train_dataset = grelu.data.dataset.AnnDataSeqDataset(\n",
    "    ad_train.copy(),\n",
    "    genome = genome,\n",
    "    rc = True, #reverse complement\n",
    "    max_seq_shift = 1, # Shift the sequence\n",
    "    augment_mode = \"random\", # Randomly select which augmentations to apply\n",
    ")"
   ]
  },
  {
   "cell_type": "code",
   "execution_count": 16,
   "metadata": {},
   "outputs": [],
   "source": [
    "val_dataset = grelu.data.dataset.AnnDataSeqDataset(ad_val.copy(), genome=genome)\n",
    "test_dataset = grelu.data.dataset.AnnDataSeqDataset(ad_test.copy(), genome=genome)"
   ]
  },
  {
   "cell_type": "markdown",
   "metadata": {},
   "source": [
    "## Build model\n",
    "\n",
    "Here we use the DiltatedConvModel"
   ]
  },
  {
   "cell_type": "code",
   "execution_count": 17,
   "metadata": {},
   "outputs": [],
   "source": [
    "model_params = {\n",
    "    'model_type':'DilatedConvModel', # Type of model\n",
    "    'n_tasks': ad.shape[0], # Number of cell types to predict\n",
    "    'crop_len':0, # No cropping of the model output. What does this really mean?\n",
    "    'channels':512,\n",
    "    'n_conv':8,\n",
    "}\n",
    "\n",
    "train_params = {\n",
    "    'task':'regression', # regression\n",
    "    'loss': 'mse', \n",
    "    'lr': 1e-4, # learning rate\n",
    "    'logger': 'csv', # Logs will be written to a CSV file\n",
    "    'batch_size':512,\n",
    "    'max_epochs':10,\n",
    "    'devices':0, # Either “cpu” or an integer or list of integers representing the indices of the GPUs for training\n",
    "    'num_workers':8,\n",
    "    'optimizer': 'adam',\n",
    "    'save_dir':experiment,\n",
    "    'checkpoint': True, # Save checkpoints\n",
    "}\n",
    "\n",
    "import grelu.lightning\n",
    "model = grelu.lightning.LightningModel(model_params, train_params)"
   ]
  },
  {
   "cell_type": "markdown",
   "metadata": {},
   "source": [
    "## Train model"
   ]
  },
  {
   "cell_type": "code",
   "execution_count": 18,
   "metadata": {},
   "outputs": [
    {
     "name": "stderr",
     "output_type": "stream",
     "text": [
      "GPU available: True (mps), used: True\n",
      "TPU available: False, using: 0 TPU cores\n",
      "HPU available: False, using: 0 HPUs\n",
      "/Users/victoremenike/anaconda3/envs/deeplife/lib/python3.11/site-packages/pytorch_lightning/trainer/connectors/data_connector.py:420: Consider setting `persistent_workers=True` in 'val_dataloader' to speed up the dataloader worker initialization.\n"
     ]
    },
    {
     "data": {
      "application/vnd.jupyter.widget-view+json": {
       "model_id": "6aef8702cb9f4fd0877d471fe4b06f4f",
       "version_major": 2,
       "version_minor": 0
      },
      "text/plain": [
       "Validation: |          | 0/? [00:00<?, ?it/s]"
      ]
     },
     "metadata": {},
     "output_type": "display_data"
    },
    {
     "name": "stderr",
     "output_type": "stream",
     "text": [
      "/Users/victoremenike/anaconda3/envs/deeplife/lib/python3.11/site-packages/torchmetrics/utilities/prints.py:43: UserWarning: The variance of predictions or target is close to zero. This can cause instability in Pearson correlationcoefficient, leading to wrong results. Consider re-scaling the input if possible or computing using alarger dtype (currently using torch.float32). Setting the correlation coefficient to nan.\n",
      "  warnings.warn(*args, **kwargs)\n"
     ]
    },
    {
     "name": "stdout",
     "output_type": "stream",
     "text": [
      "────────────────────────────────────────────────────────────────────────────────────────────────────────────────────────\n",
      "     Validate metric           DataLoader 0\n",
      "────────────────────────────────────────────────────────────────────────────────────────────────────────────────────────\n",
      "        val_loss              7.5404052734375\n",
      "         val_mse             7.466798782348633\n",
      "       val_pearson                  nan\n",
      "────────────────────────────────────────────────────────────────────────────────────────────────────────────────────────\n"
     ]
    },
    {
     "name": "stderr",
     "output_type": "stream",
     "text": [
      "\n",
      "  | Name         | Type             | Params | Mode \n",
      "----------------------------------------------------------\n",
      "0 | model        | DilatedConvModel | 5.6 M  | train\n",
      "1 | loss         | MSELoss          | 0      | train\n",
      "2 | activation   | Identity         | 0      | train\n",
      "3 | val_metrics  | MetricCollection | 0      | train\n",
      "4 | test_metrics | MetricCollection | 0      | train\n",
      "5 | transform    | Identity         | 0      | train\n",
      "----------------------------------------------------------\n",
      "5.6 M     Trainable params\n",
      "0         Non-trainable params\n",
      "5.6 M     Total params\n",
      "22.239    Total estimated model params size (MB)\n",
      "119       Modules in train mode\n",
      "0         Modules in eval mode\n"
     ]
    },
    {
     "data": {
      "application/vnd.jupyter.widget-view+json": {
       "model_id": "8d1bdadac0f140bcbd54d231fb1fc066",
       "version_major": 2,
       "version_minor": 0
      },
      "text/plain": [
       "Sanity Checking: |          | 0/? [00:00<?, ?it/s]"
      ]
     },
     "metadata": {},
     "output_type": "display_data"
    },
    {
     "name": "stderr",
     "output_type": "stream",
     "text": [
      "/Users/victoremenike/anaconda3/envs/deeplife/lib/python3.11/site-packages/pytorch_lightning/trainer/connectors/data_connector.py:420: Consider setting `persistent_workers=True` in 'val_dataloader' to speed up the dataloader worker initialization.\n",
      "/Users/victoremenike/anaconda3/envs/deeplife/lib/python3.11/site-packages/torchmetrics/utilities/prints.py:43: UserWarning: The variance of predictions or target is close to zero. This can cause instability in Pearson correlationcoefficient, leading to wrong results. Consider re-scaling the input if possible or computing using alarger dtype (currently using torch.float32). Setting the correlation coefficient to nan.\n",
      "  warnings.warn(*args, **kwargs)\n",
      "/Users/victoremenike/anaconda3/envs/deeplife/lib/python3.11/site-packages/pytorch_lightning/trainer/connectors/data_connector.py:420: Consider setting `persistent_workers=True` in 'train_dataloader' to speed up the dataloader worker initialization.\n"
     ]
    },
    {
     "data": {
      "application/vnd.jupyter.widget-view+json": {
       "model_id": "ad93536f4bcb4d11aba834b4b4f78d90",
       "version_major": 2,
       "version_minor": 0
      },
      "text/plain": [
       "Training: |          | 0/? [00:00<?, ?it/s]"
      ]
     },
     "metadata": {},
     "output_type": "display_data"
    },
    {
     "data": {
      "application/vnd.jupyter.widget-view+json": {
       "model_id": "aab82f7f317a428daed96c4871afec1f",
       "version_major": 2,
       "version_minor": 0
      },
      "text/plain": [
       "Validation: |          | 0/? [00:00<?, ?it/s]"
      ]
     },
     "metadata": {},
     "output_type": "display_data"
    },
    {
     "data": {
      "application/vnd.jupyter.widget-view+json": {
       "model_id": "64fcd4da6ffb488ab0a00d253b24eea7",
       "version_major": 2,
       "version_minor": 0
      },
      "text/plain": [
       "Validation: |          | 0/? [00:00<?, ?it/s]"
      ]
     },
     "metadata": {},
     "output_type": "display_data"
    },
    {
     "data": {
      "application/vnd.jupyter.widget-view+json": {
       "model_id": "221e0b41ede0453c914e101a72015c15",
       "version_major": 2,
       "version_minor": 0
      },
      "text/plain": [
       "Validation: |          | 0/? [00:00<?, ?it/s]"
      ]
     },
     "metadata": {},
     "output_type": "display_data"
    },
    {
     "data": {
      "application/vnd.jupyter.widget-view+json": {
       "model_id": "e023710dda2a4344b9ca53aacbe686bc",
       "version_major": 2,
       "version_minor": 0
      },
      "text/plain": [
       "Validation: |          | 0/? [00:00<?, ?it/s]"
      ]
     },
     "metadata": {},
     "output_type": "display_data"
    },
    {
     "data": {
      "application/vnd.jupyter.widget-view+json": {
       "model_id": "d0259ee86116463f970f007697487bbc",
       "version_major": 2,
       "version_minor": 0
      },
      "text/plain": [
       "Validation: |          | 0/? [00:00<?, ?it/s]"
      ]
     },
     "metadata": {},
     "output_type": "display_data"
    },
    {
     "data": {
      "application/vnd.jupyter.widget-view+json": {
       "model_id": "d3f87d0f90e146a4ace4cb5cad371d12",
       "version_major": 2,
       "version_minor": 0
      },
      "text/plain": [
       "Validation: |          | 0/? [00:00<?, ?it/s]"
      ]
     },
     "metadata": {},
     "output_type": "display_data"
    },
    {
     "data": {
      "application/vnd.jupyter.widget-view+json": {
       "model_id": "88b4a536ecf7433485dd21c8ffdaa331",
       "version_major": 2,
       "version_minor": 0
      },
      "text/plain": [
       "Validation: |          | 0/? [00:00<?, ?it/s]"
      ]
     },
     "metadata": {},
     "output_type": "display_data"
    },
    {
     "data": {
      "application/vnd.jupyter.widget-view+json": {
       "model_id": "abe857b888b24364ae5e366d0237435c",
       "version_major": 2,
       "version_minor": 0
      },
      "text/plain": [
       "Validation: |          | 0/? [00:00<?, ?it/s]"
      ]
     },
     "metadata": {},
     "output_type": "display_data"
    },
    {
     "data": {
      "application/vnd.jupyter.widget-view+json": {
       "model_id": "e27fef01be1b47bca7fd24c1db78119f",
       "version_major": 2,
       "version_minor": 0
      },
      "text/plain": [
       "Validation: |          | 0/? [00:00<?, ?it/s]"
      ]
     },
     "metadata": {},
     "output_type": "display_data"
    },
    {
     "data": {
      "application/vnd.jupyter.widget-view+json": {
       "model_id": "babc2f7e038d443884eea03903ad71de",
       "version_major": 2,
       "version_minor": 0
      },
      "text/plain": [
       "Validation: |          | 0/? [00:00<?, ?it/s]"
      ]
     },
     "metadata": {},
     "output_type": "display_data"
    },
    {
     "name": "stderr",
     "output_type": "stream",
     "text": [
      "`Trainer.fit` stopped: `max_epochs=10` reached.\n"
     ]
    }
   ],
   "source": [
    "# See the 'single_task_1' folder for logs\n",
    "trainer = model.train_on_dataset(\n",
    "    train_dataset=train_dataset,\n",
    "    val_dataset=val_dataset,\n",
    ")"
   ]
  },
  {
   "cell_type": "markdown",
   "metadata": {},
   "source": [
    "## Load best model from checkpoint"
   ]
  },
  {
   "cell_type": "code",
   "execution_count": 19,
   "metadata": {},
   "outputs": [
    {
     "name": "stdout",
     "output_type": "stream",
     "text": [
      "multi_task_1/2025_01_04_23_11/version_0/checkpoints/epoch=8-step=576.ckpt\n"
     ]
    }
   ],
   "source": [
    "best_checkpoint = trainer.checkpoint_callback.best_model_path\n",
    "print(best_checkpoint)\n",
    "model = grelu.lightning.LightningModel.load_from_checkpoint(best_checkpoint)"
   ]
  },
  {
   "cell_type": "markdown",
   "metadata": {},
   "source": [
    "## Evaluate model on the test set"
   ]
  },
  {
   "cell_type": "code",
   "execution_count": 20,
   "metadata": {},
   "outputs": [
    {
     "name": "stderr",
     "output_type": "stream",
     "text": [
      "GPU available: True (mps), used: True\n",
      "TPU available: False, using: 0 TPU cores\n",
      "HPU available: False, using: 0 HPUs\n",
      "/Users/victoremenike/anaconda3/envs/deeplife/lib/python3.11/site-packages/pytorch_lightning/trainer/connectors/logger_connector/logger_connector.py:76: Starting from v1.9.0, `tensorboardX` has been removed as a dependency of the `pytorch_lightning` package, due to potential conflicts with other packages in the ML ecosystem. For this reason, `logger=True` will use `CSVLogger` as the default logger, unless the `tensorboard` or `tensorboardX` packages are found. Please `pip install lightning[extra]` or one of them to enable TensorBoard support by default\n",
      "/Users/victoremenike/anaconda3/envs/deeplife/lib/python3.11/site-packages/pytorch_lightning/trainer/connectors/data_connector.py:420: Consider setting `persistent_workers=True` in 'test_dataloader' to speed up the dataloader worker initialization.\n"
     ]
    },
    {
     "data": {
      "application/vnd.jupyter.widget-view+json": {
       "model_id": "95687a5a68c148c7a074d7911060524b",
       "version_major": 2,
       "version_minor": 0
      },
      "text/plain": [
       "Testing: |          | 0/? [00:00<?, ?it/s]"
      ]
     },
     "metadata": {},
     "output_type": "display_data"
    },
    {
     "name": "stdout",
     "output_type": "stream",
     "text": [
      "────────────────────────────────────────────────────────────────────────────────────────────────────────────────────────\n",
      "       Test metric             DataLoader 0\n",
      "────────────────────────────────────────────────────────────────────────────────────────────────────────────────────────\n",
      "        test_loss            1.14989173412323\n",
      "        test_mse            1.2708117961883545\n",
      "      test_pearson          0.27944356203079224\n",
      "────────────────────────────────────────────────────────────────────────────────────────────────────────────────────────\n"
     ]
    }
   ],
   "source": [
    "test_metrics = model.test_on_dataset(\n",
    "    test_dataset,\n",
    "    devices=0,\n",
    "    num_workers=8,\n",
    "    batch_size=256,\n",
    ")"
   ]
  },
  {
   "cell_type": "markdown",
   "metadata": {},
   "source": [
    "## Run inference on held out sequences"
   ]
  },
  {
   "cell_type": "code",
   "execution_count": 155,
   "metadata": {},
   "outputs": [
    {
     "name": "stderr",
     "output_type": "stream",
     "text": [
      "GPU available: True (mps), used: True\n",
      "TPU available: False, using: 0 TPU cores\n",
      "HPU available: False, using: 0 HPUs\n",
      "/Users/victoremenike/anaconda3/envs/deeplife/lib/python3.11/site-packages/pytorch_lightning/trainer/connectors/data_connector.py:420: UserWarning: Consider setting `persistent_workers=True` in 'predict_dataloader' to speed up the dataloader worker initialization.\n"
     ]
    },
    {
     "data": {
      "application/vnd.jupyter.widget-view+json": {
       "model_id": "db75fb6486ae46b099fed8cd06731d2a",
       "version_major": 2,
       "version_minor": 0
      },
      "text/plain": [
       "Predicting: |          | 0/? [00:00<?, ?it/s]"
      ]
     },
     "metadata": {},
     "output_type": "display_data"
    },
    {
     "data": {
      "text/plain": [
       "(553, 15, 1)"
      ]
     },
     "execution_count": 155,
     "metadata": {},
     "output_type": "execute_result"
    }
   ],
   "source": [
    "preds = model.predict_on_dataset(\n",
    "    test_dataset, devices=0, num_workers=8\n",
    "    )\n",
    "preds.shape"
   ]
  },
  {
   "cell_type": "code",
   "execution_count": 229,
   "metadata": {},
   "outputs": [
    {
     "name": "stderr",
     "output_type": "stream",
     "text": [
      "GPU available: True (mps), used: True\n",
      "TPU available: False, using: 0 TPU cores\n",
      "HPU available: False, using: 0 HPUs\n",
      "/Users/victoremenike/anaconda3/envs/deeplife/lib/python3.11/site-packages/pytorch_lightning/trainer/connectors/data_connector.py:420: UserWarning: Consider setting `persistent_workers=True` in 'predict_dataloader' to speed up the dataloader worker initialization.\n"
     ]
    },
    {
     "data": {
      "application/vnd.jupyter.widget-view+json": {
       "model_id": "5957c61b4aba448f8338503c3a46cd74",
       "version_major": 2,
       "version_minor": 0
      },
      "text/plain": [
       "Predicting: |          | 0/? [00:00<?, ?it/s]"
      ]
     },
     "metadata": {},
     "output_type": "display_data"
    },
    {
     "data": {
      "text/html": [
       "<div>\n",
       "<style scoped>\n",
       "    .dataframe tbody tr th:only-of-type {\n",
       "        vertical-align: middle;\n",
       "    }\n",
       "\n",
       "    .dataframe tbody tr th {\n",
       "        vertical-align: top;\n",
       "    }\n",
       "\n",
       "    .dataframe thead th {\n",
       "        text-align: right;\n",
       "    }\n",
       "</style>\n",
       "<table border=\"1\" class=\"dataframe\">\n",
       "  <thead>\n",
       "    <tr style=\"text-align: right;\">\n",
       "      <th></th>\n",
       "      <th>anterior/posterior axis</th>\n",
       "      <th>central nervous system</th>\n",
       "      <th>forebrain</th>\n",
       "      <th>immature eye</th>\n",
       "      <th>integument</th>\n",
       "      <th>lateral plate mesoderm</th>\n",
       "      <th>mesenchyme cell</th>\n",
       "      <th>musculature system</th>\n",
       "      <th>neural crest</th>\n",
       "      <th>neural keel</th>\n",
       "      <th>neural stem cell</th>\n",
       "      <th>periderm/epidermis</th>\n",
       "      <th>primary neuron</th>\n",
       "      <th>segmental plate</th>\n",
       "      <th>YSL</th>\n",
       "    </tr>\n",
       "  </thead>\n",
       "  <tbody>\n",
       "    <tr>\n",
       "      <th>0</th>\n",
       "      <td>2.557983</td>\n",
       "      <td>2.550827</td>\n",
       "      <td>2.401309</td>\n",
       "      <td>2.474052</td>\n",
       "      <td>2.473516</td>\n",
       "      <td>2.509418</td>\n",
       "      <td>2.527504</td>\n",
       "      <td>2.480300</td>\n",
       "      <td>2.555627</td>\n",
       "      <td>2.589838</td>\n",
       "      <td>2.479392</td>\n",
       "      <td>2.504568</td>\n",
       "      <td>2.553500</td>\n",
       "      <td>2.469495</td>\n",
       "      <td>2.469913</td>\n",
       "    </tr>\n",
       "    <tr>\n",
       "      <th>1</th>\n",
       "      <td>2.323212</td>\n",
       "      <td>2.274002</td>\n",
       "      <td>2.204450</td>\n",
       "      <td>2.274616</td>\n",
       "      <td>2.278533</td>\n",
       "      <td>2.246181</td>\n",
       "      <td>2.301822</td>\n",
       "      <td>2.308701</td>\n",
       "      <td>2.314971</td>\n",
       "      <td>2.329458</td>\n",
       "      <td>2.272476</td>\n",
       "      <td>2.355713</td>\n",
       "      <td>2.343838</td>\n",
       "      <td>2.234186</td>\n",
       "      <td>2.377474</td>\n",
       "    </tr>\n",
       "    <tr>\n",
       "      <th>2</th>\n",
       "      <td>2.215655</td>\n",
       "      <td>2.159862</td>\n",
       "      <td>2.105978</td>\n",
       "      <td>2.169221</td>\n",
       "      <td>2.205518</td>\n",
       "      <td>2.139402</td>\n",
       "      <td>2.197649</td>\n",
       "      <td>2.219125</td>\n",
       "      <td>2.190884</td>\n",
       "      <td>2.207607</td>\n",
       "      <td>2.177018</td>\n",
       "      <td>2.302426</td>\n",
       "      <td>2.253222</td>\n",
       "      <td>2.131030</td>\n",
       "      <td>2.359608</td>\n",
       "    </tr>\n",
       "    <tr>\n",
       "      <th>3</th>\n",
       "      <td>2.948264</td>\n",
       "      <td>2.994882</td>\n",
       "      <td>2.787483</td>\n",
       "      <td>2.846636</td>\n",
       "      <td>2.854085</td>\n",
       "      <td>2.932945</td>\n",
       "      <td>2.974338</td>\n",
       "      <td>2.843128</td>\n",
       "      <td>2.991907</td>\n",
       "      <td>3.036384</td>\n",
       "      <td>2.903981</td>\n",
       "      <td>2.780143</td>\n",
       "      <td>2.970635</td>\n",
       "      <td>2.891930</td>\n",
       "      <td>2.644167</td>\n",
       "    </tr>\n",
       "    <tr>\n",
       "      <th>4</th>\n",
       "      <td>2.687939</td>\n",
       "      <td>2.709838</td>\n",
       "      <td>2.529444</td>\n",
       "      <td>2.587805</td>\n",
       "      <td>2.592871</td>\n",
       "      <td>2.634660</td>\n",
       "      <td>2.698400</td>\n",
       "      <td>2.622320</td>\n",
       "      <td>2.698676</td>\n",
       "      <td>2.737927</td>\n",
       "      <td>2.619337</td>\n",
       "      <td>2.594745</td>\n",
       "      <td>2.691043</td>\n",
       "      <td>2.618878</td>\n",
       "      <td>2.509019</td>\n",
       "    </tr>\n",
       "  </tbody>\n",
       "</table>\n",
       "</div>"
      ],
      "text/plain": [
       "   anterior/posterior axis  central nervous system  forebrain  immature eye  \\\n",
       "0                 2.557983                2.550827   2.401309      2.474052   \n",
       "1                 2.323212                2.274002   2.204450      2.274616   \n",
       "2                 2.215655                2.159862   2.105978      2.169221   \n",
       "3                 2.948264                2.994882   2.787483      2.846636   \n",
       "4                 2.687939                2.709838   2.529444      2.587805   \n",
       "\n",
       "   integument  lateral plate mesoderm  mesenchyme cell  musculature system  \\\n",
       "0    2.473516                2.509418         2.527504            2.480300   \n",
       "1    2.278533                2.246181         2.301822            2.308701   \n",
       "2    2.205518                2.139402         2.197649            2.219125   \n",
       "3    2.854085                2.932945         2.974338            2.843128   \n",
       "4    2.592871                2.634660         2.698400            2.622320   \n",
       "\n",
       "   neural crest  neural keel  neural stem cell  periderm/epidermis  \\\n",
       "0      2.555627     2.589838          2.479392            2.504568   \n",
       "1      2.314971     2.329458          2.272476            2.355713   \n",
       "2      2.190884     2.207607          2.177018            2.302426   \n",
       "3      2.991907     3.036384          2.903981            2.780143   \n",
       "4      2.698676     2.737927          2.619337            2.594745   \n",
       "\n",
       "   primary neuron  segmental plate       YSL  \n",
       "0        2.553500         2.469495  2.469913  \n",
       "1        2.343838         2.234186  2.377474  \n",
       "2        2.253222         2.131030  2.359608  \n",
       "3        2.970635         2.891930  2.644167  \n",
       "4        2.691043         2.618878  2.509019  "
      ]
     },
     "execution_count": 229,
     "metadata": {},
     "output_type": "execute_result"
    }
   ],
   "source": [
    "preds_df = model.predict_on_dataset(\n",
    "    test_dataset, devices=0, num_workers=8,\n",
    "    return_df=True # Return the output as a pandas dataframe\n",
    "    )\n",
    "preds_df.head()"
   ]
  },
  {
   "cell_type": "code",
   "execution_count": 22,
   "metadata": {},
   "outputs": [],
   "source": [
    "import grelu.visualize"
   ]
  },
  {
   "cell_type": "code",
   "execution_count": 23,
   "metadata": {},
   "outputs": [
    {
     "name": "stderr",
     "output_type": "stream",
     "text": [
      "/Users/victoremenike/anaconda3/envs/deeplife/lib/python3.11/site-packages/grelu/visualize.py:191: UserWarning: Currently density plot cannot be faceted due to plotnine issues. All tasks will be combined.\n"
     ]
    },
    {
     "data": {
      "image/png": "[encoded data removed]"
     },
     "metadata": {
      "image/png": {
       "height": 250,
       "width": 300
      }
     },
     "output_type": "display_data"
    }
   ],
   "source": [
    "grelu.visualize.plot_pred_scatter(\n",
    "    preds=preds,\n",
    "    labels=test_dataset.get_labels(),\n",
    "    density=True, # Color points by local density\n",
    "    figsize=(3, 2.5), # width, height\n",
    "    size=.5\n",
    ")"
   ]
  },
  {
   "cell_type": "markdown",
   "metadata": {},
   "source": [
    "## Correlations for each cell type in test set"
   ]
  },
  {
   "cell_type": "code",
   "execution_count": 185,
   "metadata": {},
   "outputs": [
    {
     "name": "stdout",
     "output_type": "stream",
     "text": [
      "tensor([0.2990, 0.3258, 0.2218, 0.2513, 0.2763, 0.3392, 0.3037, 0.2501, 0.3099,\n",
      "        0.3412, 0.2697, 0.2353, 0.2569, 0.3164, 0.1950])\n"
     ]
    }
   ],
   "source": [
    "from torchmetrics.regression import PearsonCorrCoef\n",
    "import torch \n",
    "\n",
    "preds_2d = preds.squeeze(-1)  # [batch_size * seq_len, num_tasks]\n",
    "preds_2d = torch.from_numpy(preds_2d)\n",
    "target_2d = test_dataset.get_labels().squeeze(-1)\n",
    "target_2d = torch.from_numpy(target_2d)\n",
    "\n",
    "coeff = PearsonCorrCoef(num_outputs=15)\n",
    "coeff.update(preds_2d, target_2d)\n",
    "\n",
    "# Compute result\n",
    "result = coeff.compute()\n",
    "print(result)\n"
   ]
  },
  {
   "cell_type": "code",
   "execution_count": 192,
   "metadata": {},
   "outputs": [],
   "source": [
    "corr_cells = pd.DataFrame({'cell_type': ad_test.obs['cell type'], \n",
    "                          'pearson correlation': result} )\n",
    "corr_cells = corr_cells.reset_index().drop(columns= 'cell_type')\n",
    "\n",
    "corr_cells.to_csv('../results/cell_type_pearson_corr.csv', index=False)"
   ]
  },
  {
   "cell_type": "code",
   "execution_count": 199,
   "metadata": {},
   "outputs": [
    {
     "data": {
      "text/html": [
       "<div>\n",
       "<style scoped>\n",
       "    .dataframe tbody tr th:only-of-type {\n",
       "        vertical-align: middle;\n",
       "    }\n",
       "\n",
       "    .dataframe tbody tr th {\n",
       "        vertical-align: top;\n",
       "    }\n",
       "\n",
       "    .dataframe thead th {\n",
       "        text-align: right;\n",
       "    }\n",
       "</style>\n",
       "<table border=\"1\" class=\"dataframe\">\n",
       "  <thead>\n",
       "    <tr style=\"text-align: right;\">\n",
       "      <th></th>\n",
       "      <th>cell type</th>\n",
       "      <th>pearson correlation</th>\n",
       "    </tr>\n",
       "  </thead>\n",
       "  <tbody>\n",
       "    <tr>\n",
       "      <th>9</th>\n",
       "      <td>neural keel</td>\n",
       "      <td>0.341200</td>\n",
       "    </tr>\n",
       "    <tr>\n",
       "      <th>5</th>\n",
       "      <td>lateral plate mesoderm</td>\n",
       "      <td>0.339221</td>\n",
       "    </tr>\n",
       "    <tr>\n",
       "      <th>1</th>\n",
       "      <td>central nervous system</td>\n",
       "      <td>0.325762</td>\n",
       "    </tr>\n",
       "    <tr>\n",
       "      <th>13</th>\n",
       "      <td>segmental plate</td>\n",
       "      <td>0.316388</td>\n",
       "    </tr>\n",
       "    <tr>\n",
       "      <th>8</th>\n",
       "      <td>neural crest</td>\n",
       "      <td>0.309884</td>\n",
       "    </tr>\n",
       "    <tr>\n",
       "      <th>6</th>\n",
       "      <td>mesenchyme cell</td>\n",
       "      <td>0.303680</td>\n",
       "    </tr>\n",
       "    <tr>\n",
       "      <th>0</th>\n",
       "      <td>anterior/posterior axis</td>\n",
       "      <td>0.299018</td>\n",
       "    </tr>\n",
       "    <tr>\n",
       "      <th>4</th>\n",
       "      <td>integument</td>\n",
       "      <td>0.276290</td>\n",
       "    </tr>\n",
       "    <tr>\n",
       "      <th>10</th>\n",
       "      <td>neural stem cell</td>\n",
       "      <td>0.269711</td>\n",
       "    </tr>\n",
       "    <tr>\n",
       "      <th>12</th>\n",
       "      <td>primary neuron</td>\n",
       "      <td>0.256930</td>\n",
       "    </tr>\n",
       "    <tr>\n",
       "      <th>3</th>\n",
       "      <td>immature eye</td>\n",
       "      <td>0.251286</td>\n",
       "    </tr>\n",
       "    <tr>\n",
       "      <th>7</th>\n",
       "      <td>musculature system</td>\n",
       "      <td>0.250127</td>\n",
       "    </tr>\n",
       "    <tr>\n",
       "      <th>11</th>\n",
       "      <td>periderm/epidermis</td>\n",
       "      <td>0.235326</td>\n",
       "    </tr>\n",
       "    <tr>\n",
       "      <th>2</th>\n",
       "      <td>forebrain</td>\n",
       "      <td>0.221823</td>\n",
       "    </tr>\n",
       "    <tr>\n",
       "      <th>14</th>\n",
       "      <td>YSL</td>\n",
       "      <td>0.195011</td>\n",
       "    </tr>\n",
       "  </tbody>\n",
       "</table>\n",
       "</div>"
      ],
      "text/plain": [
       "                  cell type  pearson correlation\n",
       "9               neural keel             0.341200\n",
       "5    lateral plate mesoderm             0.339221\n",
       "1    central nervous system             0.325762\n",
       "13          segmental plate             0.316388\n",
       "8              neural crest             0.309884\n",
       "6           mesenchyme cell             0.303680\n",
       "0   anterior/posterior axis             0.299018\n",
       "4                integument             0.276290\n",
       "10         neural stem cell             0.269711\n",
       "12           primary neuron             0.256930\n",
       "3              immature eye             0.251286\n",
       "7        musculature system             0.250127\n",
       "11       periderm/epidermis             0.235326\n",
       "2                 forebrain             0.221823\n",
       "14                      YSL             0.195011"
      ]
     },
     "execution_count": 199,
     "metadata": {},
     "output_type": "execute_result"
    }
   ],
   "source": [
    "corr_cells.sort_values(by='pearson correlation', ascending= False)"
   ]
  },
  {
   "cell_type": "markdown",
   "metadata": {},
   "source": [
    "## Interpret model predictions (for neural keel) using TF-modisco"
   ]
  },
  {
   "cell_type": "code",
   "execution_count": 230,
   "metadata": {},
   "outputs": [
    {
     "data": {
      "text/plain": [
       "Aggregate()"
      ]
     },
     "execution_count": 230,
     "metadata": {},
     "output_type": "execute_result"
    }
   ],
   "source": [
    "from grelu.transforms.prediction_transforms import Aggregate\n",
    "\n",
    "neural_keel_peaks = Aggregate(\n",
    "    tasks = [\"neural keel\"],\n",
    "    model = model,\n",
    ")\n",
    "\n",
    "neural_keel_peaks"
   ]
  },
  {
   "cell_type": "code",
   "execution_count": 231,
   "metadata": {},
   "outputs": [
    {
     "data": {
      "text/html": [
       "<div>\n",
       "<style scoped>\n",
       "    .dataframe tbody tr th:only-of-type {\n",
       "        vertical-align: middle;\n",
       "    }\n",
       "\n",
       "    .dataframe tbody tr th {\n",
       "        vertical-align: top;\n",
       "    }\n",
       "\n",
       "    .dataframe thead th {\n",
       "        text-align: right;\n",
       "    }\n",
       "</style>\n",
       "<table border=\"1\" class=\"dataframe\">\n",
       "  <thead>\n",
       "    <tr style=\"text-align: right;\">\n",
       "      <th></th>\n",
       "      <th>chrom</th>\n",
       "      <th>start</th>\n",
       "      <th>end</th>\n",
       "    </tr>\n",
       "  </thead>\n",
       "  <tbody>\n",
       "    <tr>\n",
       "      <th>49447</th>\n",
       "      <td>chr4</td>\n",
       "      <td>1516</td>\n",
       "      <td>1716</td>\n",
       "    </tr>\n",
       "    <tr>\n",
       "      <th>49448</th>\n",
       "      <td>chr4</td>\n",
       "      <td>3091</td>\n",
       "      <td>3291</td>\n",
       "    </tr>\n",
       "    <tr>\n",
       "      <th>49449</th>\n",
       "      <td>chr4</td>\n",
       "      <td>4555</td>\n",
       "      <td>4755</td>\n",
       "    </tr>\n",
       "    <tr>\n",
       "      <th>49450</th>\n",
       "      <td>chr4</td>\n",
       "      <td>6099</td>\n",
       "      <td>6299</td>\n",
       "    </tr>\n",
       "    <tr>\n",
       "      <th>49451</th>\n",
       "      <td>chr4</td>\n",
       "      <td>12813</td>\n",
       "      <td>13013</td>\n",
       "    </tr>\n",
       "    <tr>\n",
       "      <th>...</th>\n",
       "      <td>...</td>\n",
       "      <td>...</td>\n",
       "      <td>...</td>\n",
       "    </tr>\n",
       "    <tr>\n",
       "      <th>49995</th>\n",
       "      <td>chr4</td>\n",
       "      <td>1235799</td>\n",
       "      <td>1235999</td>\n",
       "    </tr>\n",
       "    <tr>\n",
       "      <th>49996</th>\n",
       "      <td>chr4</td>\n",
       "      <td>1239478</td>\n",
       "      <td>1239678</td>\n",
       "    </tr>\n",
       "    <tr>\n",
       "      <th>49997</th>\n",
       "      <td>chr4</td>\n",
       "      <td>1243254</td>\n",
       "      <td>1243454</td>\n",
       "    </tr>\n",
       "    <tr>\n",
       "      <th>49998</th>\n",
       "      <td>chr4</td>\n",
       "      <td>1245149</td>\n",
       "      <td>1245349</td>\n",
       "    </tr>\n",
       "    <tr>\n",
       "      <th>49999</th>\n",
       "      <td>chr4</td>\n",
       "      <td>1247691</td>\n",
       "      <td>1247891</td>\n",
       "    </tr>\n",
       "  </tbody>\n",
       "</table>\n",
       "<p>553 rows × 3 columns</p>\n",
       "</div>"
      ],
      "text/plain": [
       "      chrom    start      end\n",
       "49447  chr4     1516     1716\n",
       "49448  chr4     3091     3291\n",
       "49449  chr4     4555     4755\n",
       "49450  chr4     6099     6299\n",
       "49451  chr4    12813    13013\n",
       "...     ...      ...      ...\n",
       "49995  chr4  1235799  1235999\n",
       "49996  chr4  1239478  1239678\n",
       "49997  chr4  1243254  1243454\n",
       "49998  chr4  1245149  1245349\n",
       "49999  chr4  1247691  1247891\n",
       "\n",
       "[553 rows x 3 columns]"
      ]
     },
     "execution_count": 231,
     "metadata": {},
     "output_type": "execute_result"
    }
   ],
   "source": [
    "ad_test.var"
   ]
  },
  {
   "cell_type": "markdown",
   "metadata": {},
   "source": [
    "The regulatory motifs for Zebra fish (Danio Rerio) were obtained from the [`SwissRegulon Portal`](https://swissregulon.unibas.ch/data/dr11/dr11_weight_matrices) as produced by the publication:\n",
    "\n",
    "Baranasic, D., Hörtenhuber, M., Balwierz, P.J. et al. Multiomic atlas with functional stratification and developmental dynamics of zebrafish cis-regulatory elements. Nat Genet 54, 1037–1050 (2022). https://doi.org/10.1038/s41588-022-01089-w\n",
    "\n",
    "Furthermore, the regulatory motifs (weight matrices) was converted from its original TRANSFAC 'matrix.dat' file into a MEME motif file by using the `transfac2meme` motif conversion utility from the [`The MEME Suite`](https://web.mit.edu/meme_v4.11.4/share/doc/transfac2meme.html).\n",
    "\n"
   ]
  },
  {
   "cell_type": "code",
   "execution_count": 240,
   "metadata": {},
   "outputs": [
    {
     "name": "stderr",
     "output_type": "stream",
     "text": [
      "GPU available: True (mps), used: True\n",
      "TPU available: False, using: 0 TPU cores\n",
      "HPU available: False, using: 0 HPUs\n"
     ]
    },
    {
     "name": "stdout",
     "output_type": "stream",
     "text": [
      "Performing ISM\n"
     ]
    },
    {
     "name": "stderr",
     "output_type": "stream",
     "text": [
      "/Users/victoremenike/anaconda3/envs/deeplife/lib/python3.11/site-packages/pytorch_lightning/trainer/connectors/data_connector.py:420: UserWarning: Consider setting `persistent_workers=True` in 'predict_dataloader' to speed up the dataloader worker initialization.\n"
     ]
    },
    {
     "data": {
      "application/vnd.jupyter.widget-view+json": {
       "model_id": "6b70d27483884052937439ef9cf384dc",
       "version_major": 2,
       "version_minor": 0
      },
      "text/plain": [
       "Predicting: |          | 0/? [00:00<?, ?it/s]"
      ]
     },
     "metadata": {},
     "output_type": "display_data"
    },
    {
     "name": "stderr",
     "output_type": "stream",
     "text": [
      "GPU available: True (mps), used: True\n",
      "TPU available: False, using: 0 TPU cores\n",
      "HPU available: False, using: 0 HPUs\n"
     ]
    },
    {
     "data": {
      "application/vnd.jupyter.widget-view+json": {
       "model_id": "bb14623968cc4e15a6907a2ca2f17911",
       "version_major": 2,
       "version_minor": 0
      },
      "text/plain": [
       "Predicting: |          | 0/? [00:00<?, ?it/s]"
      ]
     },
     "metadata": {},
     "output_type": "display_data"
    },
    {
     "name": "stdout",
     "output_type": "stream",
     "text": [
      "Running modisco\n",
      "Writing modisco output\n",
      "Creating sequence logos\n",
      "Creating html report\n",
      "Running TOMTOM\n",
      "CPU times: user 6.45 s, sys: 4.51 s, total: 11 s\n",
      "Wall time: 4min 50s\n"
     ]
    }
   ],
   "source": [
    "%%time\n",
    "import grelu.interpret.modisco\n",
    "grelu.interpret.modisco.run_modisco(\n",
    "    model,\n",
    "    seqs=ad_test.var, \n",
    "    genome=genome,\n",
    "    prediction_transform=neural_keel_peaks, # Base importance scores will be calculated with respect to this output\n",
    "    meme_file=\"../data/danRer11.meme\", # We will compare the Modisco CWMs to HOCOMOCO motifs\n",
    "    method=\"ism\", # Base-level attribution scores will be calculated using ISM. You can also use \"saliency\".\n",
    "    out_dir=experiment,\n",
    "    batch_size=256,\n",
    "    devices=0,\n",
    "    num_workers=8,\n",
    "    window=100, # ISM scores will be calculated over the central 100 bp of each peak\n",
    "    seed=0,\n",
    ")"
   ]
  },
  {
   "cell_type": "code",
   "execution_count": 234,
   "metadata": {},
   "outputs": [
    {
     "data": {
      "text/plain": [
       "'/Users/victoremenike/anaconda3/envs/deeplife/lib/python3.11/site-packages/grelu/resources/meme/jaspar_2024_consensus.meme'"
      ]
     },
     "execution_count": 234,
     "metadata": {},
     "output_type": "execute_result"
    }
   ],
   "source": [
    "import grelu.resources\n",
    "\n",
    "grelu.resources.get_meme_file_path(meme_motif_db = 'consensus') "
   ]
  },
  {
   "cell_type": "code",
   "execution_count": null,
   "metadata": {},
   "outputs": [],
   "source": []
  }
 ],
 "metadata": {
  "kernelspec": {
   "display_name": "deeplife",
   "language": "python",
   "name": "python3"
  },
  "language_info": {
   "codemirror_mode": {
    "name": "ipython",
    "version": 3
   },
   "file_extension": ".py",
   "mimetype": "text/x-python",
   "name": "python",
   "nbconvert_exporter": "python",
   "pygments_lexer": "ipython3",
   "version": "3.11.11"
  }
 },
 "nbformat": 4,
 "nbformat_minor": 2
}
